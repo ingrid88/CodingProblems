{
 "cells": [
  {
   "cell_type": "code",
   "execution_count": 2,
   "metadata": {
    "collapsed": true
   },
   "outputs": [],
   "source": [
    "import numpy as np"
   ]
  },
  {
   "cell_type": "code",
   "execution_count": 3,
   "metadata": {
    "collapsed": false
   },
   "outputs": [],
   "source": [
    "times = np.array([[0, 4, 9, 3, 1, 2], \n",
    "                  [4, 0, 2, 1, 4, 2], \n",
    "                  [9, 2, 0, 7, 2, 1],\n",
    "                  [3, 3, 7, 0, 6, 6], \n",
    "                  [1, 4, 2, 6, 0, 2], \n",
    "                  [2, 2, 1, 6, 2, 0]])\n"
   ]
  },
  {
   "cell_type": "code",
   "execution_count": 4,
   "metadata": {
    "collapsed": true
   },
   "outputs": [],
   "source": [
    "def get_route(citya, cityb, matrix, stop_overs):\n",
    "    shortest = matrix[citya, cityb]\n",
    "    if shortest == 1:\n",
    "        return shortest\n",
    "    for c in range(0, len(matrix)):\n",
    "        if c != citya and c != cityb:\n",
    "            dist = matrix[citya, c] + matrix[c, cityb]\n",
    "            if dist < shortest:\n",
    "                shortest = dist\n",
    "    for c1 in range(0, len(matrix)):\n",
    "        for c2 in range(0, len(matrix)):\n",
    "            if c1 != c2 and c1 != citya and c2 != citya and c1 != cityb and c2 != cityb:\n",
    "                dist2 = matrix[citya, c1] + matrix[c1, c2] + matrix[c2, cityb]\n",
    "                print dist2, citya, c1, c2, cityb\n",
    "                if dist2 < shortest:\n",
    "                    shortest = dist2 \n",
    "    return shortest"
   ]
  },
  {
   "cell_type": "code",
   "execution_count": null,
   "metadata": {
    "collapsed": true
   },
   "outputs": [],
   "source": [
    "def route()"
   ]
  }
 ],
 "metadata": {
  "kernelspec": {
   "display_name": "Python 2",
   "language": "python",
   "name": "python2"
  },
  "language_info": {
   "codemirror_mode": {
    "name": "ipython",
    "version": 2
   },
   "file_extension": ".py",
   "mimetype": "text/x-python",
   "name": "python",
   "nbconvert_exporter": "python",
   "pygments_lexer": "ipython2",
   "version": "2.7.11"
  }
 },
 "nbformat": 4,
 "nbformat_minor": 0
}
