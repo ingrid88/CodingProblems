{
 "cells": [
  {
   "cell_type": "code",
   "execution_count": null,
   "metadata": {
    "collapsed": true
   },
   "outputs": [],
   "source": [
    "def ways(cents, coins=[25,10,5,1]):\n",
    "    \"\"\"Return the number of ways to make change.\"\"\"\n",
    "    coin = coins.pop(0)\n",
    "    (25 - coin)"
   ]
  },
  {
   "cell_type": "code",
   "execution_count": null,
   "metadata": {
    "collapsed": true
   },
   "outputs": [],
   "source": [
    "coins=[25,10,5,1]"
   ]
  },
  {
   "cell_type": "code",
   "execution_count": null,
   "metadata": {
    "collapsed": false
   },
   "outputs": [],
   "source": [
    "coins.pop(0)"
   ]
  },
  {
   "cell_type": "code",
   "execution_count": null,
   "metadata": {
    "collapsed": false
   },
   "outputs": [],
   "source": [
    "coins"
   ]
  },
  {
   "cell_type": "code",
   "execution_count": null,
   "metadata": {
    "collapsed": false
   },
   "outputs": [],
   "source": [
    "ways(25,[10,5,1])"
   ]
  },
  {
   "cell_type": "code",
   "execution_count": 24,
   "metadata": {
    "collapsed": false
   },
   "outputs": [
    {
     "data": {
      "text/plain": [
       "[1, 1, 1, 1, 1]"
      ]
     },
     "execution_count": 24,
     "metadata": {},
     "output_type": "execute_result"
    }
   ],
   "source": [
    "# # 25 / 1 = 25\n",
    "cents = 26\n",
    "coins = [10,5,1]\n",
    "\n",
    "divisors = []\n",
    "cents = 10\n",
    "coins = [5,1]\n",
    "\n",
    "cents = 5\n",
    "coins = [1]\n",
    "for coin in coins:\n",
    "    while cents > 0 and cents >= coin:\n",
    "        cents = cents - coin\n",
    "        divisors.append(coin)\n",
    "divisors\n",
    "\n"
   ]
  },
  {
   "cell_type": "code",
   "execution_count": null,
   "metadata": {
    "collapsed": false
   },
   "outputs": [],
   "source": [
    "25 % coin"
   ]
  },
  {
   "cell_type": "code",
   "execution_count": 53,
   "metadata": {
    "collapsed": true
   },
   "outputs": [],
   "source": [
    "coins = [5,1]"
   ]
  },
  {
   "cell_type": "code",
   "execution_count": 117,
   "metadata": {
    "collapsed": false
   },
   "outputs": [],
   "source": [
    "import copy\n",
    "def ways(cents,coins):\n",
    "    \n",
    "    divisors = []\n",
    "    coins_copy = copy.deepcopy(coins)\n",
    "    if len(coins) == 0:\n",
    "        return 0\n",
    "    if len(coins) == 1:\n",
    "        return 1\n",
    "    for coin in coins:\n",
    "        while cents > 0 and cents >= coin:\n",
    "            cents = cents - coin\n",
    "            divisors.append(coin)\n",
    "    res = sum([ways(coins_copy.pop(0),coins_copy) for x in divisors])\n",
    "    print divisors, coins\n",
    "    return res+1"
   ]
  },
  {
   "cell_type": "code",
   "execution_count": 118,
   "metadata": {
    "collapsed": false
   },
   "outputs": [
    {
     "name": "stdout",
     "output_type": "stream",
     "text": [
      "[5, 5] [5, 1]\n",
      "[10, 10, 5] [10, 5, 1]\n",
      "[5, 5] [5, 1]\n",
      "[25, 25, 25, 25] [25, 10, 5, 1]\n"
     ]
    },
    {
     "data": {
      "text/plain": [
       "8"
      ]
     },
     "execution_count": 118,
     "metadata": {},
     "output_type": "execute_result"
    }
   ],
   "source": [
    "ways(100,[25,10,5,1])\n"
   ]
  },
  {
   "cell_type": "code",
   "execution_count": 119,
   "metadata": {
    "collapsed": true
   },
   "outputs": [],
   "source": [
    "def ways(cents, coins=[25, 10, 5, 1]):\n",
    "    \"\"\"Return the number of ways to make change\"\"\"\n",
    "    nb_combinations = [1]+[0]*cents\n",
    "    for coin in coins:\n",
    "        for sub_case in range(coin, cents+1):\n",
    "            nb_combinations[sub_case] += nb_combinations[sub_case-coin]\n",
    "            \n",
    "    return nb_combinations[cents]"
   ]
  },
  {
   "cell_type": "code",
   "execution_count": 123,
   "metadata": {
    "collapsed": false
   },
   "outputs": [
    {
     "data": {
      "text/plain": [
       "[0, 0, 0, 0, 0, 0, 0, 0, 0, 0, 0, 0, 0, 0, 0, 0, 0, 0, 0, 0, 0, 0, 0, 0, 0]"
      ]
     },
     "execution_count": 123,
     "metadata": {},
     "output_type": "execute_result"
    }
   ],
   "source": [
    "[0]*25"
   ]
  },
  {
   "cell_type": "code",
   "execution_count": null,
   "metadata": {
    "collapsed": true
   },
   "outputs": [],
   "source": [
    "def ways(cents, coins=[25,10,5,1]):\n",
    "\n",
    "    cents = cents - coins.pop(0)\n",
    "    return ways(cents, coins)"
   ]
  }
 ],
 "metadata": {
  "kernelspec": {
   "display_name": "Python 2",
   "language": "python",
   "name": "python2"
  },
  "language_info": {
   "codemirror_mode": {
    "name": "ipython",
    "version": 2
   },
   "file_extension": ".py",
   "mimetype": "text/x-python",
   "name": "python",
   "nbconvert_exporter": "python",
   "pygments_lexer": "ipython2",
   "version": "2.7.11"
  }
 },
 "nbformat": 4,
 "nbformat_minor": 0
}
