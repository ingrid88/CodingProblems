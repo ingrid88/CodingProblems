{
 "cells": [
  {
   "cell_type": "code",
   "execution_count": 4,
   "metadata": {
    "collapsed": false
   },
   "outputs": [
    {
     "data": {
      "text/latex": [
       "$$x^n+5x^2+2$$"
      ],
      "text/plain": [
       "<IPython.core.display.Math object>"
      ]
     },
     "metadata": {},
     "output_type": "display_data"
    }
   ],
   "source": [
    "from IPython.display import display, Math, Latex\n",
    "import numpy as np\n",
    "# display(Math(r'F(k) = \\int_{-\\infty}^{\\infty} f(x) e^{2\\pi i k} dx')) #$x^n+5x^2+2$\n",
    "display(Math('x^n+5x^2+2')) #$x^n+5x^2+2$"
   ]
  },
  {
   "cell_type": "code",
   "execution_count": 2,
   "metadata": {
    "collapsed": false
   },
   "outputs": [
    {
     "name": "stdout",
     "output_type": "stream",
     "text": [
      "   2\n",
      "1 x + 2 x + 3\n"
     ]
    }
   ],
   "source": [
    "p = np.poly1d([1, 2, 3])\n",
    "print( np.poly1d(p))"
   ]
  },
  {
   "cell_type": "code",
   "execution_count": 3,
   "metadata": {
    "collapsed": false
   },
   "outputs": [
    {
     "name": "stdout",
     "output_type": "stream",
     "text": [
      "   4     3      2\n",
      "1 x + 4 x + 10 x + 12 x + 9\n"
     ]
    }
   ],
   "source": [
    "print(np.poly1d([ 1,  4, 10, 12,  9]))"
   ]
  },
  {
   "cell_type": "code",
   "execution_count": 69,
   "metadata": {
    "collapsed": false
   },
   "outputs": [
    {
     "data": {
      "text/latex": [
       "$$1+1x^2$$"
      ],
      "text/plain": [
       "<IPython.core.display.Math object>"
      ]
     },
     "metadata": {},
     "output_type": "display_data"
    }
   ],
   "source": [
    "poly([1,0,1,0])"
   ]
  },
  {
   "cell_type": "code",
   "execution_count": 18,
   "metadata": {
    "collapsed": false
   },
   "outputs": [
    {
     "name": "stdout",
     "output_type": "stream",
     "text": [
      "wwer\n"
     ]
    }
   ],
   "source": [
    "s = 'w'\n",
    "s += 'wer'\n",
    "print(s)"
   ]
  },
  {
   "cell_type": "code",
   "execution_count": 31,
   "metadata": {
    "collapsed": false
   },
   "outputs": [
    {
     "name": "stdout",
     "output_type": "stream",
     "text": [
      "     this is string example....wow!!!\n",
      "88888888this is string example....wow!!!\n"
     ]
    }
   ],
   "source": [
    "stri = \"     this is string example....wow!!!     \";\n",
    "print( stri.rstrip())\n",
    "stri = \"88888888this is string example....wow!!!8888888\";\n",
    "print( stri.rstrip('8'))"
   ]
  },
  {
   "cell_type": "code",
   "execution_count": null,
   "metadata": {
    "collapsed": true
   },
   "outputs": [],
   "source": []
  },
  {
   "cell_type": "code",
   "execution_count": null,
   "metadata": {
    "collapsed": true
   },
   "outputs": [],
   "source": [
    "def poly(arr):\n",
    "    joi"
   ]
  },
  {
   "cell_type": "code",
   "execution_count": 64,
   "metadata": {
    "collapsed": false
   },
   "outputs": [],
   "source": [
    "def poly(arr):\n",
    "    s = ''\n",
    "    for i,num in enumerate(arr):\n",
    "        if num == 0:\n",
    "            if i == 0 and len(arr) == 1:\n",
    "                s = str(num)\n",
    "            else:\n",
    "                s=s\n",
    "        elif i == 0:\n",
    "            s += str(num)+'+'\n",
    "        elif i == 1:\n",
    "            s += str(num)+'x+'\n",
    "        else:\n",
    "            s += str(num)+'x^'+str(i)+'+'\n",
    "    s = s.rstrip('+')\n",
    "    return display(Math(s))\n",
    "    \n",
    "#     nomial = 'x^n+5x^2+2'\n",
    "#     return display(Math(nomial))\n",
    "\n",
    "\n",
    "def another_function(self):\n",
    "    \n",
    "    return display(Math(r'x^n+5x^2+2'))\n",
    "\n",
    "np.poly1d.__latex__ = another_function"
   ]
  },
  {
   "cell_type": "code",
   "execution_count": null,
   "metadata": {
    "collapsed": false
   },
   "outputs": [],
   "source": [
    "np.poly1d(p).__latex__()"
   ]
  },
  {
   "cell_type": "code",
   "execution_count": null,
   "metadata": {
    "collapsed": true
   },
   "outputs": [],
   "source": [
    "def __str__(self):\n",
    "        thestr = \"0\"\n",
    "        var = self.variable\n",
    "\n",
    "        # Remove leading zeros\n",
    "        coeffs = self.coeffs[NX.logical_or.accumulate(self.coeffs != 0)]\n",
    "        N = len(coeffs)-1\n",
    "\n",
    "        def fmt_float(q):\n",
    "            s = '%.4g' % q\n",
    "            if s.endswith('.0000'):\n",
    "                s = s[:-5]\n",
    "            return s\n",
    "\n",
    "        for k in range(len(coeffs)):\n",
    "            if not iscomplex(coeffs[k]):\n",
    "                coefstr = fmt_float(real(coeffs[k]))\n",
    "            elif real(coeffs[k]) == 0:\n",
    "                coefstr = '%sj' % fmt_float(imag(coeffs[k]))\n",
    "            else:\n",
    "                coefstr = '(%s + %sj)' % (fmt_float(real(coeffs[k])),\n",
    "                                          fmt_float(imag(coeffs[k])))\n",
    "\n",
    "            power = (N-k)\n",
    "            if power == 0:\n",
    "                if coefstr != '0':\n",
    "                    newstr = '%s' % (coefstr,)\n",
    "                else:\n",
    "                    if k == 0:\n",
    "                        newstr = '0'\n",
    "                    else:\n",
    "                        newstr = ''\n",
    "            elif power == 1:\n",
    "                if coefstr == '0':\n",
    "                    newstr = ''\n",
    "                elif coefstr == 'b':\n",
    "                    newstr = var\n",
    "                else:\n",
    "                    newstr = '%s %s' % (coefstr, var)\n",
    "            else:\n",
    "                if coefstr == '0':\n",
    "                    newstr = ''\n",
    "                elif coefstr == 'b':\n",
    "                    newstr = '%s**%d' % (var, power,)\n",
    "                else:\n",
    "                    newstr = '%s %s**%d' % (coefstr, var, power)\n",
    "\n",
    "            if k > 0:\n",
    "                if newstr != '':\n",
    "                    if newstr.startswith('-'):\n",
    "                        thestr = \"%s - %s\" % (thestr, newstr[1:])\n",
    "                    else:\n",
    "                        thestr = \"%s + %s\" % (thestr, newstr)\n",
    "            else:\n",
    "                thestr = newstr\n",
    "        return _raise_power(thestr)"
   ]
  }
 ],
 "metadata": {
  "kernelspec": {
   "display_name": "Python 3",
   "language": "python",
   "name": "python3"
  },
  "language_info": {
   "codemirror_mode": {
    "name": "ipython",
    "version": 3
   },
   "file_extension": ".py",
   "mimetype": "text/x-python",
   "name": "python",
   "nbconvert_exporter": "python",
   "pygments_lexer": "ipython3",
   "version": "3.5.1"
  }
 },
 "nbformat": 4,
 "nbformat_minor": 0
}
