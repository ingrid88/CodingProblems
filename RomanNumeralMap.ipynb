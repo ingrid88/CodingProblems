{
 "cells": [
  {
   "cell_type": "code",
   "execution_count": 1,
   "metadata": {
    "collapsed": true
   },
   "outputs": [],
   "source": [
    "import tensorflow as tf"
   ]
  },
  {
   "cell_type": "code",
   "execution_count": 32,
   "metadata": {
    "collapsed": false
   },
   "outputs": [
    {
     "data": {
      "text/plain": [
       "3"
      ]
     },
     "execution_count": 32,
     "metadata": {},
     "output_type": "execute_result"
    }
   ],
   "source": [
    "8 % 5"
   ]
  },
  {
   "cell_type": "code",
   "execution_count": 33,
   "metadata": {
    "collapsed": false
   },
   "outputs": [
    {
     "data": {
      "text/plain": [
       "3"
      ]
     },
     "execution_count": 33,
     "metadata": {},
     "output_type": "execute_result"
    }
   ],
   "source": [
    "3 % 5"
   ]
  },
  {
   "cell_type": "code",
   "execution_count": 34,
   "metadata": {
    "collapsed": false
   },
   "outputs": [
    {
     "data": {
      "text/plain": [
       "'III'"
      ]
     },
     "execution_count": 34,
     "metadata": {},
     "output_type": "execute_result"
    }
   ],
   "source": [
    "\"I\"*3"
   ]
  },
  {
   "cell_type": "code",
   "execution_count": 46,
   "metadata": {
    "collapsed": false
   },
   "outputs": [
    {
     "ename": "IndexError",
     "evalue": "string index out of range",
     "output_type": "error",
     "traceback": [
      "\u001b[0;31m---------------------------------------------------------------------------\u001b[0m",
      "\u001b[0;31mIndexError\u001b[0m                                Traceback (most recent call last)",
      "\u001b[0;32m<ipython-input-46-1e015fb88c44>\u001b[0m in \u001b[0;36m<module>\u001b[0;34m()\u001b[0m\n\u001b[1;32m      1\u001b[0m \u001b[0mnum\u001b[0m \u001b[0;34m=\u001b[0m \u001b[0;36m4\u001b[0m\u001b[0;34m\u001b[0m\u001b[0m\n\u001b[0;32m----> 2\u001b[0;31m \u001b[0mtens\u001b[0m \u001b[0;34m=\u001b[0m \u001b[0mint\u001b[0m\u001b[0;34m(\u001b[0m\u001b[0mstr\u001b[0m\u001b[0;34m(\u001b[0m\u001b[0mnum\u001b[0m\u001b[0;34m)\u001b[0m\u001b[0;34m[\u001b[0m\u001b[0;34m-\u001b[0m\u001b[0;36m2\u001b[0m\u001b[0;34m]\u001b[0m\u001b[0;34m)\u001b[0m\u001b[0;34m\u001b[0m\u001b[0m\n\u001b[0m\u001b[1;32m      3\u001b[0m \u001b[0mtens\u001b[0m\u001b[0;34m\u001b[0m\u001b[0m\n",
      "\u001b[0;31mIndexError\u001b[0m: string index out of range"
     ]
    }
   ],
   "source": [
    "num = 4\n",
    "tens = int(str(num)[-2])\n",
    "tens"
   ]
  },
  {
   "cell_type": "code",
   "execution_count": 64,
   "metadata": {
    "collapsed": false
   },
   "outputs": [
    {
     "data": {
      "text/plain": [
       "['X', 'L', 'C']"
      ]
     },
     "execution_count": 64,
     "metadata": {},
     "output_type": "execute_result"
    }
   ],
   "source": [
    "romans = [\"I\",\"V\",\"X\",\"L\",\"C\",\"D\",\"M\"]  \n",
    "romans[0:3]\n",
    "romans[2:5]\n",
    "romans[]"
   ]
  },
  {
   "cell_type": "code",
   "execution_count": 99,
   "metadata": {
    "collapsed": false
   },
   "outputs": [],
   "source": [
    "def roman(num):\n",
    "    romans = [[\"I\",\"V\",\"X\"],[\"X\",\"L\",\"C\"],[\"C\",\"D\",\"M\"],[\"M\",\"√\",\"∑\"]]  \n",
    "    places = len(str(num))\n",
    "    roman_str = ''\n",
    "    for cursor in range(places):\n",
    "        roms = romans[(places-1) - cursor]\n",
    "        digit = int(str(num)[cursor])\n",
    "        if digit == 4:\n",
    "            roman_str += roms[0]+roms[1]\n",
    "        elif digit == 9:\n",
    "            roman_str += roms[0]+roms[2]\n",
    "        elif digit >= 5:\n",
    "            roman_str += roms[1]\n",
    "            roman_str += roms[0]*(digit % 5)\n",
    "        elif digit < 5:\n",
    "            roman_str += roms[0]*digit \n",
    "    return roman_str\n",
    "\n",
    "\n",
    "# ´∂†˜µΩœ¡™£¢∞§¶•ª0º≠–Ω∑´®†¥√ß∑´®†¥¨∆˚øπ“‘æ"
   ]
  },
  {
   "cell_type": "code",
   "execution_count": 115,
   "metadata": {
    "collapsed": false
   },
   "outputs": [],
   "source": [
    "romanNumeralMap = {'M':  1000, 'CM': 900, 'D':  500, 'CD': 400, 'C':  100, \n",
    "                    'XC': 90, 'L':  50, 'XL': 40,\n",
    "                   'X':  10, 'IX': 9, 'V':  5, 'IV': 4, 'I':  1}\n",
    "\n",
    "\n",
    "def from_roman(roman_str):\n",
    "    subset = roman_str[0:2]\n",
    "    if romanNumeralMap[subset]:\n",
    "        \"hi\"\n",
    "    else romanNumeralMap[roman_str.pop(0):\n",
    "    return \"hi\""
   ]
  },
  {
   "cell_type": "code",
   "execution_count": 118,
   "metadata": {
    "collapsed": false
   },
   "outputs": [
    {
     "ename": "KeyError",
     "evalue": "'Ms'",
     "output_type": "error",
     "traceback": [
      "\u001b[0;31m---------------------------------------------------------------------------\u001b[0m",
      "\u001b[0;31mKeyError\u001b[0m                                  Traceback (most recent call last)",
      "\u001b[0;32m<ipython-input-118-06823fec753a>\u001b[0m in \u001b[0;36m<module>\u001b[0;34m()\u001b[0m\n\u001b[0;32m----> 1\u001b[0;31m \u001b[0mromanNumeralMap\u001b[0m\u001b[0;34m[\u001b[0m\u001b[0;34m\"Ms\"\u001b[0m\u001b[0;34m]\u001b[0m\u001b[0;34m\u001b[0m\u001b[0m\n\u001b[0m",
      "\u001b[0;31mKeyError\u001b[0m: 'Ms'"
     ]
    }
   ],
   "source": [
    "romanNumeralMap[\"Ms\"]"
   ]
  },
  {
   "cell_type": "code",
   "execution_count": 111,
   "metadata": {
    "collapsed": false
   },
   "outputs": [
    {
     "name": "stdout",
     "output_type": "stream",
     "text": [
      "catt\n",
      "['c', 'a', 't', 't', 'y']\n",
      "c\n",
      "['c', 'a', 't', 't', 'y']\n"
     ]
    }
   ],
   "source": [
    "s = \"catty\"\n",
    "print s[0:4]\n",
    "print list(s)\n",
    "print list(s).pop(0)\n",
    "print list(s)\n",
    "# print s.pop()\n",
    "# print s"
   ]
  },
  {
   "cell_type": "code",
   "execution_count": 54,
   "metadata": {
    "collapsed": false
   },
   "outputs": [],
   "source": [
    "romans = {1:\"I\",5:\"V\"} #,10:\"X\",50:\"L\",100:\"C\",500:\"D\"}\n",
    "\n",
    "def roman_numeral(num):\n",
    "    ones = int(str(num)[-1])\n",
    "    roman_str1 = ''\n",
    "    ## ones place \n",
    "    if ones == 4:\n",
    "        roman_str1 = \"IV\"\n",
    "    elif ones == 9:\n",
    "        roman_str1 = \"IX\"\n",
    "    elif ones >= 5:\n",
    "        roman_str1 = \"V\"\n",
    "        roman_str1 += \"I\"*(ones % 5)\n",
    "    elif ones < 5:\n",
    "        roman_str1 = \"I\"*ones\n",
    "    ## tens place\n",
    "    roman_str10 = ''\n",
    "    if len(str(num)) >= 2:\n",
    "        print \"hi\"\n",
    "        tens = int(str(num)[-2])\n",
    "        print tens\n",
    "        if tens == 4:\n",
    "            roman_str10 = \"XL\"\n",
    "        elif tens == 9:\n",
    "            roman_str10 = \"XC\"\n",
    "        elif tens >= 5:\n",
    "            roman_str10 = \"L\"\n",
    "            roman_str10 += \"X\"*(tens % 5)\n",
    "        elif tens < 5:\n",
    "            roman_str10 = \"X\"*tens\n",
    "    roman_str = roman_str10 + roman_str1\n",
    "    return roman_str\n",
    "\n",
    "\n"
   ]
  },
  {
   "cell_type": "code",
   "execution_count": 59,
   "metadata": {
    "collapsed": false
   },
   "outputs": [
    {
     "name": "stdout",
     "output_type": "stream",
     "text": [
      "hi\n",
      "9\n"
     ]
    },
    {
     "data": {
      "text/plain": [
       "'XCIX'"
      ]
     },
     "execution_count": 59,
     "metadata": {},
     "output_type": "execute_result"
    }
   ],
   "source": [
    "roman_numeral(99)"
   ]
  },
  {
   "cell_type": "code",
   "execution_count": null,
   "metadata": {
    "collapsed": true
   },
   "outputs": [],
   "source": [
    "10^(len(num)-1)\n",
    "if value is \"value place\" less than any of the things \n",
    "in this library, then we need that library item"
   ]
  },
  {
   "cell_type": "code",
   "execution_count": 104,
   "metadata": {
    "collapsed": true
   },
   "outputs": [],
   "source": [
    "\n",
    "#Define digit mapping\n",
    "romanNumeralMap = (('M',  1000),\n",
    "                   ('CM', 900),\n",
    "                   ('D',  500),\n",
    "                   ('CD', 400),\n",
    "                   ('C',  100),\n",
    "                   ('XC', 90),\n",
    "                   ('L',  50),\n",
    "                   ('XL', 40),\n",
    "                   ('X',  10),\n",
    "                   ('IX', 9),\n",
    "                   ('V',  5),\n",
    "                   ('IV', 4),\n",
    "                   ('I',  1))\n",
    "\n",
    "def toRoman(n):\n",
    "    result = \"\"\n",
    "    for numeral, integer in romanNumeralMap:\n",
    "        while n >= integer:\n",
    "            result += numeral\n",
    "            n -= integer\n",
    "    return result"
   ]
  },
  {
   "cell_type": "code",
   "execution_count": 106,
   "metadata": {
    "collapsed": false
   },
   "outputs": [
    {
     "data": {
      "text/plain": [
       "'L'"
      ]
     },
     "execution_count": 106,
     "metadata": {},
     "output_type": "execute_result"
    }
   ],
   "source": [
    "toRoman(50)"
   ]
  },
  {
   "cell_type": "code",
   "execution_count": 1,
   "metadata": {
    "collapsed": true
   },
   "outputs": [],
   "source": [
    "#http://docutils.sourceforge.net/docutils/utils/roman.py"
   ]
  },
  {
   "cell_type": "code",
   "execution_count": 7,
   "metadata": {
    "collapsed": false
   },
   "outputs": [
    {
     "data": {
      "text/plain": [
       "[5, 4, 3, 2, 1]"
      ]
     },
     "execution_count": 7,
     "metadata": {},
     "output_type": "execute_result"
    }
   ],
   "source": [
    "sorted(set([5,1,2,3,4,3]),reverse=True)"
   ]
  },
  {
   "cell_type": "code",
   "execution_count": 143,
   "metadata": {
    "collapsed": false
   },
   "outputs": [],
   "source": [
    "def stringify(val):\n",
    "    if val < 10:\n",
    "        res = \"0\"+str(val)\n",
    "    else:\n",
    "        res = str(val)\n",
    "    return res\n",
    "\n",
    "monthDays = {1:31, 2:28, 3:31, 4:30, 5:31, 6:30, 7:31, 8:31, 9:30, 10:31, 11:30, 12:31}\n",
    "def answer(x, y, z):\n",
    "    # month/day/year\n",
    "    unique_dates = sorted(set([x,y,z]),reverse=True)  \n",
    "    sorted_dates = sorted([x,y,z], reverse=True)\n",
    "    # print unique_dates\n",
    "    # print str(x)\n",
    "    if len(unique_dates) == 1:\n",
    "        result = stringify(x)+\"/\"+stringify(y)+\"/\"+stringify(z) \n",
    "    elif len(unique_dates) == 2 and unique_dates[0] > 12 and sorted_dates[0] == sorted_dates[1]:\n",
    "        result = stringify(unique_dates[1])+\"/\"+ stringify(unique_dates[0])+\"/\"+stringify(unique_dates[0])\n",
    "    elif len(unique_dates) == 2 and unique_dates[0] > 12 and sorted_dates[0] != sorted_dates[1] and unique_dates[0] > monthDays[unique_dates[1]]:\n",
    "        result = stringify(unique_dates[1])+\"/\"+ stringify(unique_dates[1])+\"/\"+str(unique_dates[0])\n",
    "    elif len(unique_dates) == 3 and unique_dates[1] > 12 and unique_dates[0] > monthDays[unique_dates[2]]:            \n",
    "        result = stringify(unique_dates[2])+\"/\"+stringify(unique_dates[1])+\"/\"+stringify(unique_dates[0])\n",
    "    else:\n",
    "        result = \"Ambiguous.\"\n",
    "    return result"
   ]
  },
  {
   "cell_type": "code",
   "execution_count": 144,
   "metadata": {
    "collapsed": false
   },
   "outputs": [
    {
     "data": {
      "text/plain": [
       "'03/13/32'"
      ]
     },
     "execution_count": 144,
     "metadata": {},
     "output_type": "execute_result"
    }
   ],
   "source": [
    "answer(3,32,13)  # 11, 30,30 works but ll,11,30 would be ambiguous   or 1,1,99"
   ]
  },
  {
   "cell_type": "code",
   "execution_count": 150,
   "metadata": {
    "collapsed": false
   },
   "outputs": [
    {
     "data": {
      "text/plain": [
       "6"
      ]
     },
     "execution_count": 150,
     "metadata": {},
     "output_type": "execute_result"
    }
   ],
   "source": [
    "# for month in range(1,13):\n",
    "#     for day in range(1,monthDays[month]+1):\n",
    "#         for year in range(1,100):\n",
    "#             print month,day,year\n",
    "#             print answer(month,day,year)\n",
    "sum([1,2,3])            "
   ]
  },
  {
   "cell_type": "raw",
   "metadata": {},
   "source": [
    "Beta Rabbit will provide you with an array x, where each element in the array is an integer representing the number of rabbits that want to share a particular car. You can give the command for a rabbit to move from any one car to any other, and you have enough time to give as many commands as you need. In other words, choose two elements of the array, x[i] and x[j] (idistinct fromj) and simultaneously increment x[i] by 1 and decrement x[j] by 1. Your goal is to get as many elements of the array to have equal value as you can.\n",
    "\n",
    "For example, if the array was [1,4,1] you could perform the operations as follows:\n",
    "\n",
    "Send a rabbit from the 1st car to the 0th: increment x[0], decrement x[1], resulting in [2,3,1]\n",
    "Send a rabbit from the 1st car to the 2nd: increment x[2], decrement x[1], resulting in [2,2,2].\n",
    "\n",
    "All the elements are of the array are equal now, and you've got a strategy to report back to Beta Rabbit!\n",
    "\n",
    "Note that if the array was [1,2], the maximum possible number of equal elements we could get is 1, as the cars could never have the same number of rabbits in them. \n",
    "\n",
    "Write a function answer(x), which takes the array of integers x and returns the maximum number of equal array elements that we can get, by doing the above described command as many times as needed. \n",
    "\n",
    "The number of cars in the train (elements in x) will be at least 2, and no more than 100. The number of rabbits that want to share a car (each element of x) will be an integer in the range [0, 1000000].\n"
   ]
  },
  {
   "cell_type": "code",
   "execution_count": 230,
   "metadata": {
    "collapsed": true
   },
   "outputs": [],
   "source": [
    "import math\n",
    "def answer(x):\n",
    "    carts = len(x)\n",
    "    bunnies = sum(x)\n",
    "    greatest = math.ceil(bunnies / float(carts))\n",
    "    equal_carts = int(bunnies - (bunnies % greatest))/greatest\n",
    "    print sum(x)\n",
    "    return equal_carts\n"
   ]
  },
  {
   "cell_type": "code",
   "execution_count": 235,
   "metadata": {
    "collapsed": false
   },
   "outputs": [
    {
     "name": "stdout",
     "output_type": "stream",
     "text": [
      "75\n"
     ]
    },
    {
     "data": {
      "text/plain": [
       "7.0"
      ]
     },
     "execution_count": 235,
     "metadata": {},
     "output_type": "execute_result"
    }
   ],
   "source": [
    "answer([1,3,1,50,11,7,1,1])"
   ]
  },
  {
   "cell_type": "code",
   "execution_count": 172,
   "metadata": {
    "collapsed": false
   },
   "outputs": [
    {
     "data": {
      "text/plain": [
       "42"
      ]
     },
     "execution_count": 172,
     "metadata": {},
     "output_type": "execute_result"
    }
   ],
   "source": [
    "14*3"
   ]
  },
  {
   "cell_type": "code",
   "execution_count": 244,
   "metadata": {
    "collapsed": false
   },
   "outputs": [
    {
     "data": {
      "text/plain": [
       "122"
      ]
     },
     "execution_count": 244,
     "metadata": {},
     "output_type": "execute_result"
    }
   ],
   "source": [
    "sum([1,3,1,50])\n",
    "ord(\"a\")\n",
    "ord(\"z\")"
   ]
  },
  {
   "cell_type": "code",
   "execution_count": 274,
   "metadata": {
    "collapsed": false
   },
   "outputs": [],
   "source": [
    "letters = {\"a\":1,\"b\":2,\"c\":3,\"d\":4,\"e\":5,\"f\":6,\"g\":7,\"h\":8,\"i\":9,\"j\":10,\"k\":11,\"l\":12,\"m\":13,\n",
    "           \"n\":14,\"o\":15,\"p\":16,\"q\":17,\"r\":18,\"s\":19,\n",
    "           \"t\":20,\"u\":21,\"v\":22,\"w\":23,\"x\":24,\"y\":25,\"z\":26}\n",
    "\n",
    "def answer(names):\n",
    "    name_sums = [(sum([letters[letter] for letter in name]),name) for name in names]\n",
    "    ordered_names = sorted(name_sums, reverse=True)\n",
    "    reordered_names = [name for count, name in ordered_names]\n",
    "    print ordered_names\n",
    "    return reordered_names"
   ]
  },
  {
   "cell_type": "code",
   "execution_count": 276,
   "metadata": {
    "collapsed": false
   },
   "outputs": [
    {
     "name": "stdout",
     "output_type": "stream",
     "text": [
      "[(71, 'iarry'), (71, 'hbrqz'), (71, 'hasry'), (50, 'earz'), (43, 'annie')]\n"
     ]
    },
    {
     "data": {
      "text/plain": [
       "['iarry', 'hbrqz', 'hasry', 'earz', 'annie']"
      ]
     },
     "execution_count": 276,
     "metadata": {},
     "output_type": "execute_result"
    }
   ],
   "source": [
    "names = [\"hbrqz\",\"iarry\",\"hasry\",\"annie\",\"earz\",]\n",
    "answer(names)"
   ]
  },
  {
   "cell_type": "code",
   "execution_count": 264,
   "metadata": {
    "collapsed": false
   },
   "outputs": [],
   "source": [
    "def answer(names):\n",
    "    name_sums = [(sum([ord(letter) for letter in name]),name) for name in names]\n",
    "    ordered_names = sorted(name_sums, reverse=True)\n",
    "    reordered_names = [name for count, name in ordered_names]\n",
    "    print ordered_names\n",
    "    return reordered_names"
   ]
  },
  {
   "cell_type": "code",
   "execution_count": 273,
   "metadata": {
    "collapsed": false
   },
   "outputs": [
    {
     "name": "stdout",
     "output_type": "stream",
     "text": [
      "[(523, 'annie'), (434, 'earz')]\n"
     ]
    },
    {
     "data": {
      "text/plain": [
       "['annie', 'earz']"
      ]
     },
     "execution_count": 273,
     "metadata": {},
     "output_type": "execute_result"
    }
   ],
   "source": [
    "names = [\"hbrqz\",\"iarry\",\"hasry\",\"annie\",\"earz\"]\n",
    "answer(names)"
   ]
  },
  {
   "cell_type": "code",
   "execution_count": 218,
   "metadata": {
    "collapsed": false
   },
   "outputs": [
    {
     "data": {
      "text/plain": [
       "{23, 24, 34}"
      ]
     },
     "execution_count": 218,
     "metadata": {},
     "output_type": "execute_result"
    }
   ],
   "source": [
    "x = [24,34,23,24]\n",
    "set(x)"
   ]
  },
  {
   "cell_type": "code",
   "execution_count": 219,
   "metadata": {
    "collapsed": false
   },
   "outputs": [
    {
     "data": {
      "text/plain": [
       "[24, 34, 23, 24]"
      ]
     },
     "execution_count": 219,
     "metadata": {},
     "output_type": "execute_result"
    }
   ],
   "source": [
    "x"
   ]
  },
  {
   "cell_type": "code",
   "execution_count": 222,
   "metadata": {
    "collapsed": false
   },
   "outputs": [
    {
     "ename": "NameError",
     "evalue": "name 'np' is not defined",
     "output_type": "error",
     "traceback": [
      "\u001b[0;31m---------------------------------------------------------------------------\u001b[0m",
      "\u001b[0;31mNameError\u001b[0m                                 Traceback (most recent call last)",
      "\u001b[0;32m<ipython-input-222-7c351f445a73>\u001b[0m in \u001b[0;36m<module>\u001b[0;34m()\u001b[0m\n\u001b[0;32m----> 1\u001b[0;31m \u001b[0mnp\u001b[0m\u001b[0;34m.\u001b[0m\u001b[0marray\u001b[0m\u001b[0;34m(\u001b[0m\u001b[0;34m[\u001b[0m\u001b[0;36m1\u001b[0m\u001b[0;34m,\u001b[0m\u001b[0;36m2\u001b[0m\u001b[0;34m,\u001b[0m\u001b[0;36m3\u001b[0m\u001b[0;34m]\u001b[0m\u001b[0;34m)\u001b[0m\u001b[0;34m-\u001b[0m\u001b[0mnp\u001b[0m\u001b[0;34m.\u001b[0m\u001b[0marray\u001b[0m\u001b[0;34m(\u001b[0m\u001b[0;34m[\u001b[0m\u001b[0;36m3\u001b[0m\u001b[0;34m,\u001b[0m\u001b[0;36m2\u001b[0m\u001b[0;34m]\u001b[0m\u001b[0;34m)\u001b[0m\u001b[0;34m\u001b[0m\u001b[0m\n\u001b[0m",
      "\u001b[0;31mNameError\u001b[0m: name 'np' is not defined"
     ]
    }
   ],
   "source": [
    "np.array([1,2,3])-np.array([3,2])"
   ]
  },
  {
   "cell_type": "code",
   "execution_count": 424,
   "metadata": {
    "collapsed": true
   },
   "outputs": [],
   "source": [
    "def answer(heights):\n",
    "    if len([height for height in heights if height > 0]) < 1:\n",
    "        return 0\n",
    "    new_heights = [height - 1 for height in heights]\n",
    "    if new_heights[0] == 0:\n",
    "        new_heights = new_heights[1:len(new_heights)]\n",
    "    if new_heights[len(new_heights)-1] == 0:\n",
    "        new_heights = new_heights[0:-1]\n",
    "    volume = len([height for ind, height in enumerate(new_heights) \n",
    "                  if height == 0 and ind != 0 and ind != len(new_heights)-1])\n",
    "    print volume\n",
    "    print new_heights\n",
    "    return volume + answer(new_heights)"
   ]
  },
  {
   "cell_type": "code",
   "execution_count": null,
   "metadata": {
    "collapsed": true
   },
   "outputs": [],
   "source": [
    "mylist = [x*(x>=0) for x in mylist]"
   ]
  },
  {
   "cell_type": "code",
   "execution_count": 507,
   "metadata": {
    "collapsed": false
   },
   "outputs": [],
   "source": [
    "def answer(heights):\n",
    "    # look at each slice bottom up\n",
    "    volume = 0\n",
    "    for stack in range(1,max(heights)):\n",
    "        new_heights = [height - stack for height in heights]\n",
    "        mm = [height*(height>=0) for height in new_heights]\n",
    "#         print mm\n",
    "        string = ''.join([str(height) for height in mm])\n",
    "        print string\n",
    "        layer = [int(thing) for thing in list(string.strip(\"0\"))]\n",
    "        print layer\n",
    "        volume += len([height for height in layer if height == 0])\n",
    "    return volume"
   ]
  },
  {
   "cell_type": "code",
   "execution_count": 2,
   "metadata": {
    "collapsed": false
   },
   "outputs": [],
   "source": [
    "\n",
    "def answer(heights):\n",
    "    # pick peaks\n",
    "    volume = 0\n",
    "    flanks = [0]+heights+[0]\n",
    "    peeks_filter = [True if a>=flanks[ind] and a>flanks[ind+2] else False for ind,a in enumerate(heights)]\n",
    "    peeks = [(height,ind) for ind,height in enumerate(heights) if peeks_filter[ind] == True]\n",
    "    troughs = [heights[vex[1]:peeks[i+1][1]+1] for i,vex in enumerate(peeks[:-1])]\n",
    "    volume = sum([sum(min(trough[0],trough[len(trough)-1])-t for t in trough[1:-1] if t < min(trough[0],trough[len(trough)-1]) ) for trough in troughs])\n",
    "    print( peeks)\n",
    "    print( troughs)\n",
    "    print( peeks_filter)\n",
    "    print ([sum(min(trough[0],trough[len(trough)-1])-t for t in trough[1:-1] if t < min(trough[0],trough[len(trough)-1]) ) for trough in troughs])    \n",
    "    return volume"
   ]
  },
  {
   "cell_type": "code",
   "execution_count": null,
   "metadata": {
    "collapsed": true
   },
   "outputs": [],
   "source": [
    "# answer([1, 2, 3, 2, 1])\n",
    "answer([2, 5, 1, 3, 1, 2, 1, 7, 7, 6])"
   ]
  },
  {
   "cell_type": "code",
   "execution_count": 45,
   "metadata": {
    "collapsed": false
   },
   "outputs": [],
   "source": [
    "def peaks(heights):\n",
    "    flanks = [0]+heights+[0]\n",
    "    peaks = [(height,ind) for ind,height in enumerate(heights) \n",
    "             if height>=flanks[ind] and height>flanks[ind+2]]\n",
    "    return peaks\n",
    "#     if its more than the one to the right and left, its a potential peak. \n",
    "#     if its the first peak, it stays a peak\n",
    "#     if its more or equal than the previous peak and more or equal than the next peak, its a peak\n",
    "#     if its less than the previous peak but more than all subsequent peaks, its a peak\n",
    "#     if its the last peak, it stays a peak"
   ]
  },
  {
   "cell_type": "code",
   "execution_count": 69,
   "metadata": {
    "collapsed": false
   },
   "outputs": [
    {
     "data": {
      "text/plain": [
       "2"
      ]
     },
     "execution_count": 69,
     "metadata": {},
     "output_type": "execute_result"
    }
   ],
   "source": [
    "heights[0]"
   ]
  },
  {
   "cell_type": "code",
   "execution_count": 85,
   "metadata": {
    "collapsed": false
   },
   "outputs": [
    {
     "name": "stdout",
     "output_type": "stream",
     "text": [
      "[3, 3, 3, 5, 5, 5, 5]\n",
      "[1, 4, 4, 5, 5, 5, 5]\n",
      "[1, 4, 2, 5, 1, 2, 3]\n"
     ]
    },
    {
     "data": {
      "text/plain": [
       "5"
      ]
     },
     "execution_count": 85,
     "metadata": {},
     "output_type": "execute_result"
    }
   ],
   "source": [
    "heights = [1, 4, 2, 5, 1, 2, 3] #[2, 5, 1, 3, 1, 2, 1, 7, 7, 6]\n",
    "flanks = [0]+heights+[0]\n",
    "nflanks = list(reversed(flanks))\n",
    "right_max = [max(flanks[1:ind+2]) for ind,height in enumerate(heights)]\n",
    "left_max = [max(nflanks[1:ind+2]) for ind, height in enumerate(heights)]\n",
    "print(left_max)\n",
    "print(right_max)\n",
    "print(heights)\n",
    "left_max = list(reversed(left_max))\n",
    "volume = sum([min(right_max[i],left_max[i])-heights[i] for i,val in enumerate(heights)])\n",
    "volume\n"
   ]
  },
  {
   "cell_type": "code",
   "execution_count": 95,
   "metadata": {
    "collapsed": true
   },
   "outputs": [],
   "source": [
    "def answer(heights):\n",
    "    flanks = [0]+heights+[0]\n",
    "    nflanks = list(reversed(flanks))\n",
    "#     right_max = [max(flanks[1:ind+2]) for ind,height in enumerate(heights)]\n",
    "    ### right_max\n",
    "    rm = []\n",
    "    rmax = 0\n",
    "    for height in heights:\n",
    "        if rmax < height:\n",
    "            rm.append(height)\n",
    "            rmax = height\n",
    "        else:\n",
    "            rm.append(rmax)\n",
    "            \n",
    "    lm = []\n",
    "    lmax = 0\n",
    "    for height in reversed(heights):\n",
    "        if lmax < height:\n",
    "            lm.append(height)\n",
    "            lmax = height\n",
    "        else:\n",
    "            lm.append(lmax)\n",
    "    lm = list(reversed(lm))\n",
    "#     left_max = [max(nflanks[1:ind+2]) for ind, height in enumerate(heights)]\n",
    "#     left_max = list(reversed(left_max))\n",
    "    volume = sum([min(rm[i],lm[i])-heights[i] for i,val in enumerate(heights)])\n",
    "    return volume"
   ]
  },
  {
   "cell_type": "code",
   "execution_count": 96,
   "metadata": {
    "collapsed": false
   },
   "outputs": [
    {
     "data": {
      "text/plain": [
       "5"
      ]
     },
     "execution_count": 96,
     "metadata": {},
     "output_type": "execute_result"
    }
   ],
   "source": [
    "heights = [1, 4, 2, 5, 1, 2, 3] \n",
    "answer(heights)"
   ]
  },
  {
   "cell_type": "code",
   "execution_count": 94,
   "metadata": {
    "collapsed": false
   },
   "outputs": [
    {
     "name": "stdout",
     "output_type": "stream",
     "text": [
      "[5, 5, 5, 5, 3, 3, 3]\n",
      "[5, 5, 5, 5, 3, 3, 3]\n"
     ]
    }
   ],
   "source": [
    "left_max = [max(nflanks[1:ind+2]) for ind,height in enumerate(heights)]\n",
    "left_max = list(reversed(left_max))\n",
    "lm = []\n",
    "lmax = 0\n",
    "for height in reversed(heights):\n",
    "    if lmax < height:\n",
    "        lm.append(height)\n",
    "        lmax = height\n",
    "    else:\n",
    "        lm.append(lmax)\n",
    "print(list(reversed(lm)))\n",
    "print(left_max)"
   ]
  },
  {
   "cell_type": "code",
   "execution_count": 87,
   "metadata": {
    "collapsed": false
   },
   "outputs": [
    {
     "data": {
      "text/plain": [
       "17"
      ]
     },
     "execution_count": 87,
     "metadata": {},
     "output_type": "execute_result"
    }
   ],
   "source": [
    "answer([2, 5, 1, 3, 1, 2, 1, 7, 7, 6])"
   ]
  },
  {
   "cell_type": "code",
   "execution_count": 64,
   "metadata": {
    "collapsed": false
   },
   "outputs": [
    {
     "name": "stdout",
     "output_type": "stream",
     "text": [
      "3 3\n",
      "[(5, 1), (3, 3), (2, 5), (7, 8)]\n"
     ]
    },
    {
     "ename": "IndexError",
     "evalue": "list index out of range",
     "output_type": "error",
     "traceback": [
      "\u001b[0;31m---------------------------------------------------------------------------\u001b[0m",
      "\u001b[0;31mIndexError\u001b[0m                                Traceback (most recent call last)",
      "\u001b[0;32m<ipython-input-64-f230d1b9cbd6>\u001b[0m in \u001b[0;36m<module>\u001b[0;34m()\u001b[0m\n\u001b[1;32m      6\u001b[0m     \u001b[0mprint\u001b[0m\u001b[0;34m(\u001b[0m\u001b[0mpeak\u001b[0m\u001b[0;34m,\u001b[0m\u001b[0mind\u001b[0m\u001b[0;34m)\u001b[0m\u001b[0;34m\u001b[0m\u001b[0m\n\u001b[1;32m      7\u001b[0m     \u001b[0mprint\u001b[0m\u001b[0;34m(\u001b[0m\u001b[0mp\u001b[0m\u001b[0;34m)\u001b[0m\u001b[0;34m\u001b[0m\u001b[0m\n\u001b[0;32m----> 8\u001b[0;31m     \u001b[0mprint\u001b[0m\u001b[0;34m(\u001b[0m\u001b[0mp\u001b[0m\u001b[0;34m[\u001b[0m\u001b[0mind\u001b[0m\u001b[0;34m+\u001b[0m\u001b[0;36m1\u001b[0m\u001b[0;34m]\u001b[0m\u001b[0;34m)\u001b[0m\u001b[0;34m\u001b[0m\u001b[0m\n\u001b[0m\u001b[1;32m      9\u001b[0m     \u001b[0;32mif\u001b[0m \u001b[0mp\u001b[0m\u001b[0;34m[\u001b[0m\u001b[0mind\u001b[0m\u001b[0;34m]\u001b[0m \u001b[0;34m>=\u001b[0m \u001b[0mmax\u001b[0m\u001b[0;34m(\u001b[0m\u001b[0mp\u001b[0m\u001b[0;34m[\u001b[0m\u001b[0mind\u001b[0m\u001b[0;34m:\u001b[0m\u001b[0;34m:\u001b[0m\u001b[0;34m]\u001b[0m\u001b[0;34m)\u001b[0m\u001b[0;34m:\u001b[0m\u001b[0;34m\u001b[0m\u001b[0m\n\u001b[1;32m     10\u001b[0m         \u001b[0mnp\u001b[0m\u001b[0;34m.\u001b[0m\u001b[0mappend\u001b[0m\u001b[0;34m(\u001b[0m\u001b[0;34m(\u001b[0m\u001b[0mpeak\u001b[0m\u001b[0;34m,\u001b[0m\u001b[0mind\u001b[0m\u001b[0;34m)\u001b[0m\u001b[0;34m)\u001b[0m\u001b[0;34m\u001b[0m\u001b[0m\n",
      "\u001b[0;31mIndexError\u001b[0m: list index out of range"
     ]
    }
   ],
   "source": [
    "p = peaks([2, 5, 1, 3, 1, 2, 1, 7, 7, 6])\n",
    "np=[]\n",
    "for ind, peak in p[1:-1]:\n",
    "    # if first or last peak : keep!\n",
    "    # if greater than all previous peaks or greater than all future peaks : keep!\n",
    "    print(peak,ind)\n",
    "    print(p)\n",
    "    print(p[ind+1])\n",
    "    if p[ind] >= max(p[ind::]):\n",
    "        np.append((peak,ind))\n",
    "    if p[ind] >= max(p[0:ind+1]):\n",
    "        np.append((peak,ind))\n",
    "np\n",
    "        "
   ]
  },
  {
   "cell_type": "code",
   "execution_count": 48,
   "metadata": {
    "collapsed": false
   },
   "outputs": [],
   "source": [
    "first_peak = p[0]\n",
    "last_peak = p[len(p)-1]\n"
   ]
  },
  {
   "cell_type": "code",
   "execution_count": 34,
   "metadata": {
    "collapsed": false
   },
   "outputs": [],
   "source": [
    "def peaks(heights):\n",
    "    storage = []\n",
    "    flanks = [0]+heights+[0]\n",
    "    print(flanks)\n",
    "    # greedy evaluation\n",
    "    previous_peak = 0\n",
    "    peak = 0\n",
    "    for i in range(1,len(flanks)-1):\n",
    "        # first and last peak are kept, all \n",
    "        print(flanks[i-1],flanks[i],flanks[i+1])\n",
    "        print(heights[i-1])\n",
    "        if heights[i-1] > flanks[i-1] and heights[i-1] >= flanks[i+1]:\n",
    "            peak = (flanks[i],i-1)\n",
    "            if len(storage) == 0:\n",
    "                storage.append(peak)\n",
    "            else: \n",
    "                if peak >= previous_peak:\n",
    "                    storage.append(previous_peak)\n",
    "                    previous_peak = peak\n",
    "                else: # peak is less than previous peak\n",
    "                    \n",
    "            \n",
    "                \n",
    "                \n",
    "        # inbetweens must be higher or equal in \n",
    "        # height to previous \n",
    "        # or higher than the next one \n",
    "    return storage"
   ]
  },
  {
   "cell_type": "code",
   "execution_count": 35,
   "metadata": {
    "collapsed": false
   },
   "outputs": [
    {
     "name": "stdout",
     "output_type": "stream",
     "text": [
      "[0, 2, 5, 1, 3, 1, 2, 1, 7, 7, 6, 0]\n",
      "0 2 5\n",
      "2\n",
      "2 5 1\n",
      "5\n",
      "5 1 3\n",
      "1\n",
      "1 3 1\n",
      "3\n",
      "3 1 2\n",
      "1\n",
      "1 2 1\n",
      "2\n",
      "2 1 7\n",
      "1\n",
      "1 7 7\n",
      "7\n",
      "7 7 6\n",
      "7\n",
      "7 6 0\n",
      "6\n"
     ]
    },
    {
     "data": {
      "text/plain": [
       "[(5, 1), (3, 3), (2, 5), (7, 7)]"
      ]
     },
     "execution_count": 35,
     "metadata": {},
     "output_type": "execute_result"
    }
   ],
   "source": [
    "peaks([2, 5, 1, 3, 1, 2, 1, 7, 7, 6])"
   ]
  },
  {
   "cell_type": "code",
   "execution_count": null,
   "metadata": {
    "collapsed": true
   },
   "outputs": [],
   "source": []
  },
  {
   "cell_type": "code",
   "execution_count": 670,
   "metadata": {
    "collapsed": false
   },
   "outputs": [
    {
     "data": {
      "text/plain": [
       "487"
      ]
     },
     "execution_count": 670,
     "metadata": {},
     "output_type": "execute_result"
    }
   ],
   "source": [
    "(99-2)+(99-1)*3+(99-3)"
   ]
  },
  {
   "cell_type": "code",
   "execution_count": 566,
   "metadata": {
    "collapsed": false
   },
   "outputs": [
    {
     "data": {
      "text/plain": [
       "1"
      ]
     },
     "execution_count": 566,
     "metadata": {},
     "output_type": "execute_result"
    }
   ],
   "source": [
    "ss = [(4, 1), (5, 3), (10, 5)]\n",
    "ss[0][1]"
   ]
  },
  {
   "cell_type": "code",
   "execution_count": 426,
   "metadata": {
    "collapsed": false
   },
   "outputs": [
    {
     "name": "stdout",
     "output_type": "stream",
     "text": [
      "1\n",
      "[3, 1, 4, 0, 1, 2]\n",
      "2\n",
      "[2, 0, 3, -1, 0, 1]\n",
      "0\n",
      "[1, -1, 2, -2, -1]\n",
      "0\n",
      "[-2, 1, -3, -2]\n",
      "1\n",
      "[-3, 0, -4, -3]\n"
     ]
    },
    {
     "data": {
      "text/plain": [
       "4"
      ]
     },
     "execution_count": 426,
     "metadata": {},
     "output_type": "execute_result"
    }
   ],
   "source": [
    "answer([1, 4, 2, 5, 1, 2, 3])\n",
    "0,3,1,4,0,1,2\n",
    "2,0,3,-1,0,1\n",
    "1,-1,2,-2,-1,0\n",
    "# heights = [1, 2, 3, 2, 1]\n",
    "# answer(heights)"
   ]
  },
  {
   "cell_type": "code",
   "execution_count": null,
   "metadata": {
    "collapsed": true
   },
   "outputs": [],
   "source": []
  },
  {
   "cell_type": "code",
   "execution_count": 399,
   "metadata": {
    "collapsed": false
   },
   "outputs": [
    {
     "ename": "TypeError",
     "evalue": "object of type 'int' has no len()",
     "output_type": "error",
     "traceback": [
      "\u001b[0;31m---------------------------------------------------------------------------\u001b[0m",
      "\u001b[0;31mTypeError\u001b[0m                                 Traceback (most recent call last)",
      "\u001b[0;32m<ipython-input-399-32be6c084f37>\u001b[0m in \u001b[0;36m<module>\u001b[0;34m()\u001b[0m\n\u001b[0;32m----> 1\u001b[0;31m \u001b[0manswer\u001b[0m\u001b[0;34m(\u001b[0m\u001b[0;34m[\u001b[0m\u001b[0;36m1\u001b[0m\u001b[0;34m,\u001b[0m \u001b[0;36m4\u001b[0m\u001b[0;34m,\u001b[0m \u001b[0;36m2\u001b[0m\u001b[0;34m,\u001b[0m \u001b[0;36m5\u001b[0m\u001b[0;34m,\u001b[0m \u001b[0;36m1\u001b[0m\u001b[0;34m,\u001b[0m \u001b[0;36m2\u001b[0m\u001b[0;34m,\u001b[0m \u001b[0;36m3\u001b[0m\u001b[0;34m]\u001b[0m\u001b[0;34m)\u001b[0m\u001b[0;34m\u001b[0m\u001b[0m\n\u001b[0m",
      "\u001b[0;32m<ipython-input-398-8265861baad0>\u001b[0m in \u001b[0;36manswer\u001b[0;34m(heights)\u001b[0m\n\u001b[1;32m      1\u001b[0m \u001b[0;32mdef\u001b[0m \u001b[0manswer\u001b[0m\u001b[0;34m(\u001b[0m\u001b[0mheights\u001b[0m\u001b[0;34m)\u001b[0m\u001b[0;34m:\u001b[0m\u001b[0;34m\u001b[0m\u001b[0m\n\u001b[0;32m----> 2\u001b[0;31m     \u001b[0;32mif\u001b[0m \u001b[0mlen\u001b[0m\u001b[0;34m(\u001b[0m\u001b[0mheights\u001b[0m\u001b[0;34m[\u001b[0m\u001b[0mheights\u001b[0m \u001b[0;34m>\u001b[0m \u001b[0;36m0\u001b[0m\u001b[0;34m]\u001b[0m\u001b[0;34m)\u001b[0m \u001b[0;34m<\u001b[0m \u001b[0;36m1\u001b[0m\u001b[0;34m:\u001b[0m\u001b[0;34m\u001b[0m\u001b[0m\n\u001b[0m\u001b[1;32m      3\u001b[0m         \u001b[0;32mreturn\u001b[0m \u001b[0;36m0\u001b[0m\u001b[0;34m\u001b[0m\u001b[0m\n\u001b[1;32m      4\u001b[0m     \u001b[0mnew_heights\u001b[0m \u001b[0;34m=\u001b[0m \u001b[0;34m[\u001b[0m\u001b[0mheight\u001b[0m \u001b[0;34m-\u001b[0m \u001b[0;36m1\u001b[0m \u001b[0;32mfor\u001b[0m \u001b[0mheight\u001b[0m \u001b[0;32min\u001b[0m \u001b[0mheights\u001b[0m\u001b[0;34m]\u001b[0m\u001b[0;34m\u001b[0m\u001b[0m\n\u001b[1;32m      5\u001b[0m     \u001b[0mvolume\u001b[0m \u001b[0;34m=\u001b[0m \u001b[0mlen\u001b[0m\u001b[0;34m(\u001b[0m\u001b[0mnew_heights\u001b[0m\u001b[0;34m[\u001b[0m\u001b[0mnew_heights\u001b[0m \u001b[0;34m==\u001b[0m \u001b[0;36m0\u001b[0m\u001b[0;34m]\u001b[0m\u001b[0;34m)\u001b[0m\u001b[0;34m\u001b[0m\u001b[0m\n",
      "\u001b[0;31mTypeError\u001b[0m: object of type 'int' has no len()"
     ]
    }
   ],
   "source": [
    "heights = [1, 4, 2, 5, 1, 2, 3]\n",
    "answer([1, 4, 2, 5, 1, 2, 3])"
   ]
  },
  {
   "cell_type": "code",
   "execution_count": 397,
   "metadata": {
    "collapsed": false
   },
   "outputs": [
    {
     "ename": "TypeError",
     "evalue": "unsupported operand type(s) for -: 'list' and 'int'",
     "output_type": "error",
     "traceback": [
      "\u001b[0;31m---------------------------------------------------------------------------\u001b[0m",
      "\u001b[0;31mTypeError\u001b[0m                                 Traceback (most recent call last)",
      "\u001b[0;32m<ipython-input-397-8efe53fc0a14>\u001b[0m in \u001b[0;36m<module>\u001b[0;34m()\u001b[0m\n\u001b[0;32m----> 1\u001b[0;31m \u001b[0;34m[\u001b[0m\u001b[0;36m1\u001b[0m\u001b[0;34m,\u001b[0m\u001b[0;36m2\u001b[0m\u001b[0;34m,\u001b[0m\u001b[0;36m3\u001b[0m\u001b[0;34m]\u001b[0m\u001b[0;34m-\u001b[0m\u001b[0;36m1\u001b[0m\u001b[0;34m\u001b[0m\u001b[0m\n\u001b[0m",
      "\u001b[0;31mTypeError\u001b[0m: unsupported operand type(s) for -: 'list' and 'int'"
     ]
    }
   ],
   "source": [
    "[1,2,3]-1"
   ]
  },
  {
   "cell_type": "code",
   "execution_count": 385,
   "metadata": {
    "collapsed": true
   },
   "outputs": [],
   "source": [
    "import numpy as np\n",
    "def answer(heights):\n",
    "    # step 1: find peeks when previous and next number are smaller\n",
    "    self = np.array([0] + heights)\n",
    "    self_shift = np.array(heights + [0])\n",
    "    res = (self - self_shift)#[1:len(self)] \n",
    "    res2 = self_shift - self\n",
    "    cc = np.array([0] + list(res2))\n",
    "    print cc\n",
    "    dd = (list(res2) + [0])\n",
    "    print cc > 0\n",
    "    print dd \n",
    "    print res2\n",
    "    # step 2: compair peeks\n",
    "#     peeks = np.array(res > 0)*np.array(heights)\n",
    "    # step 3: sum differences between peaks\n",
    "    return  res"
   ]
  },
  {
   "cell_type": "code",
   "execution_count": 386,
   "metadata": {
    "collapsed": false
   },
   "outputs": [
    {
     "data": {
      "text/plain": [
       "array([ 0, 12,  3])"
      ]
     },
     "execution_count": 386,
     "metadata": {},
     "output_type": "execute_result"
    }
   ],
   "source": [
    "np.array([0]+[12,3])"
   ]
  },
  {
   "cell_type": "code",
   "execution_count": 387,
   "metadata": {
    "collapsed": false
   },
   "outputs": [
    {
     "name": "stdout",
     "output_type": "stream",
     "text": [
      "[ 0  1  3 -2  3 -1 -2 -1 -1]\n",
      "[False  True  True False  True False False False False]\n",
      "[1, 3, -2, 3, -1, -2, -1, -1, 0]\n",
      "[ 1  3 -2  3 -1 -2 -1 -1]\n"
     ]
    },
    {
     "data": {
      "text/plain": [
       "array([-1, -3,  2, -3,  1,  2,  1,  1])"
      ]
     },
     "execution_count": 387,
     "metadata": {},
     "output_type": "execute_result"
    }
   ],
   "source": [
    "answer([1, 4, 2, 5, 4, 2, 1])"
   ]
  },
  {
   "cell_type": "code",
   "execution_count": 294,
   "metadata": {
    "collapsed": false
   },
   "outputs": [
    {
     "data": {
      "text/plain": [
       "(-1, 1, -2, -3, 4, -1, -1, 3)"
      ]
     },
     "execution_count": 294,
     "metadata": {},
     "output_type": "execute_result"
    }
   ],
   "source": [
    "heights = [0,1, 4, 2, 5, 1, 2, 3,0]\n",
    "-1,-3,2,-3,4,-1,-1,3\n",
    "heights = [0,1, 0, 2, 5, 1, 2, 3,0]\n",
    "-1,1,-2,-3,4,-1,-1,3"
   ]
  },
  {
   "cell_type": "code",
   "execution_count": 390,
   "metadata": {
    "collapsed": false
   },
   "outputs": [],
   "source": [
    "from urllib2 import urlopen\n",
    "from json import load \n",
    "\n",
    "url = 'http://api.npr.org/query?apiKey=' \n",
    "key = 'MDAzMTA2NjkwMDEyOTc4NzIwNzYxOThmNA001'\n",
    "url = url + key\n",
    "url += '&numResults=50&format=json&id=1001'\n",
    "url += '&requiredAssets=text'\n",
    "\n",
    "response = urlopen(url)\n",
    "json_obj = load(response)\n",
    "\n",
    "with open('nprarticles.txt','w') as f:\n",
    "    for story in json_obj['list']['story']:\n",
    "        article = []\n",
    "        for paragraph in story['textWithHtml']['paragraph']:\n",
    "            article.append(paragraph['$text'])\n",
    "        art = ' '.join(article).encode('utf-8')\n",
    "        f.write(art+'\\n')"
   ]
  },
  {
   "cell_type": "code",
   "execution_count": 396,
   "metadata": {
    "collapsed": false
   },
   "outputs": [
    {
     "name": "stderr",
     "output_type": "stream",
     "text": [
      "WARNING:gensim.models.ldamodel:input corpus stream has no len(); counting documents\n",
      "WARNING:gensim.models.ldamodel:too few updates, training might not converge; consider increasing the number of passes or iterations to improve accuracy\n",
      "WARNING:gensim.models.ldamodel:input corpus stream has no len(); counting documents\n",
      "WARNING:gensim.models.ldamodel:too few updates, training might not converge; consider increasing the number of passes or iterations to improve accuracy\n",
      "WARNING:gensim.models.ldamodel:input corpus stream has no len(); counting documents\n",
      "WARNING:gensim.models.ldamodel:too few updates, training might not converge; consider increasing the number of passes or iterations to improve accuracy\n",
      "WARNING:gensim.models.ldamodel:input corpus stream has no len(); counting documents\n",
      "WARNING:gensim.models.ldamodel:too few updates, training might not converge; consider increasing the number of passes or iterations to improve accuracy\n",
      "WARNING:gensim.models.ldamodel:input corpus stream has no len(); counting documents\n",
      "WARNING:gensim.models.ldamodel:too few updates, training might not converge; consider increasing the number of passes or iterations to improve accuracy\n",
      "WARNING:gensim.models.ldamodel:input corpus stream has no len(); counting documents\n",
      "WARNING:gensim.models.ldamodel:too few updates, training might not converge; consider increasing the number of passes or iterations to improve accuracy\n",
      "WARNING:gensim.models.ldamodel:input corpus stream has no len(); counting documents\n",
      "WARNING:gensim.models.ldamodel:too few updates, training might not converge; consider increasing the number of passes or iterations to improve accuracy\n",
      "WARNING:gensim.models.ldamodel:input corpus stream has no len(); counting documents\n",
      "WARNING:gensim.models.ldamodel:too few updates, training might not converge; consider increasing the number of passes or iterations to improve accuracy\n",
      "WARNING:gensim.models.ldamodel:input corpus stream has no len(); counting documents\n",
      "WARNING:gensim.models.ldamodel:too few updates, training might not converge; consider increasing the number of passes or iterations to improve accuracy\n",
      "WARNING:gensim.models.ldamodel:input corpus stream has no len(); counting documents\n",
      "WARNING:gensim.models.ldamodel:too few updates, training might not converge; consider increasing the number of passes or iterations to improve accuracy\n",
      "WARNING:gensim.models.ldamodel:input corpus stream has no len(); counting documents\n",
      "WARNING:gensim.models.ldamodel:too few updates, training might not converge; consider increasing the number of passes or iterations to improve accuracy\n",
      "WARNING:gensim.models.ldamodel:input corpus stream has no len(); counting documents\n",
      "WARNING:gensim.models.ldamodel:too few updates, training might not converge; consider increasing the number of passes or iterations to improve accuracy\n",
      "WARNING:gensim.models.ldamodel:input corpus stream has no len(); counting documents\n",
      "WARNING:gensim.models.ldamodel:too few updates, training might not converge; consider increasing the number of passes or iterations to improve accuracy\n",
      "WARNING:gensim.models.ldamodel:input corpus stream has no len(); counting documents\n",
      "WARNING:gensim.models.ldamodel:too few updates, training might not converge; consider increasing the number of passes or iterations to improve accuracy\n",
      "WARNING:gensim.models.ldamodel:input corpus stream has no len(); counting documents\n",
      "WARNING:gensim.models.ldamodel:too few updates, training might not converge; consider increasing the number of passes or iterations to improve accuracy\n",
      "WARNING:gensim.models.ldamodel:input corpus stream has no len(); counting documents\n",
      "WARNING:gensim.models.ldamodel:too few updates, training might not converge; consider increasing the number of passes or iterations to improve accuracy\n",
      "WARNING:gensim.models.ldamodel:input corpus stream has no len(); counting documents\n",
      "WARNING:gensim.models.ldamodel:too few updates, training might not converge; consider increasing the number of passes or iterations to improve accuracy\n",
      "WARNING:gensim.models.ldamodel:input corpus stream has no len(); counting documents\n",
      "WARNING:gensim.models.ldamodel:too few updates, training might not converge; consider increasing the number of passes or iterations to improve accuracy\n",
      "WARNING:gensim.models.ldamodel:input corpus stream has no len(); counting documents\n",
      "WARNING:gensim.models.ldamodel:too few updates, training might not converge; consider increasing the number of passes or iterations to improve accuracy\n",
      "WARNING:gensim.models.ldamodel:input corpus stream has no len(); counting documents\n",
      "WARNING:gensim.models.ldamodel:too few updates, training might not converge; consider increasing the number of passes or iterations to improve accuracy\n",
      "WARNING:gensim.models.ldamodel:input corpus stream has no len(); counting documents\n",
      "WARNING:gensim.models.ldamodel:too few updates, training might not converge; consider increasing the number of passes or iterations to improve accuracy\n",
      "WARNING:gensim.models.ldamodel:input corpus stream has no len(); counting documents\n",
      "WARNING:gensim.models.ldamodel:too few updates, training might not converge; consider increasing the number of passes or iterations to improve accuracy\n",
      "WARNING:gensim.models.ldamodel:input corpus stream has no len(); counting documents\n",
      "WARNING:gensim.models.ldamodel:too few updates, training might not converge; consider increasing the number of passes or iterations to improve accuracy\n",
      "WARNING:gensim.models.ldamodel:input corpus stream has no len(); counting documents\n",
      "WARNING:gensim.models.ldamodel:too few updates, training might not converge; consider increasing the number of passes or iterations to improve accuracy\n",
      "WARNING:gensim.models.ldamodel:input corpus stream has no len(); counting documents\n",
      "WARNING:gensim.models.ldamodel:too few updates, training might not converge; consider increasing the number of passes or iterations to improve accuracy\n",
      "WARNING:gensim.models.ldamodel:input corpus stream has no len(); counting documents\n",
      "WARNING:gensim.models.ldamodel:too few updates, training might not converge; consider increasing the number of passes or iterations to improve accuracy\n",
      "WARNING:gensim.models.ldamodel:input corpus stream has no len(); counting documents\n",
      "WARNING:gensim.models.ldamodel:too few updates, training might not converge; consider increasing the number of passes or iterations to improve accuracy\n",
      "WARNING:gensim.models.ldamodel:input corpus stream has no len(); counting documents\n",
      "WARNING:gensim.models.ldamodel:too few updates, training might not converge; consider increasing the number of passes or iterations to improve accuracy\n",
      "WARNING:gensim.models.ldamodel:input corpus stream has no len(); counting documents\n",
      "WARNING:gensim.models.ldamodel:too few updates, training might not converge; consider increasing the number of passes or iterations to improve accuracy\n",
      "WARNING:gensim.models.ldamodel:input corpus stream has no len(); counting documents\n",
      "WARNING:gensim.models.ldamodel:too few updates, training might not converge; consider increasing the number of passes or iterations to improve accuracy\n",
      "WARNING:gensim.models.ldamodel:input corpus stream has no len(); counting documents\n",
      "WARNING:gensim.models.ldamodel:too few updates, training might not converge; consider increasing the number of passes or iterations to improve accuracy\n",
      "WARNING:gensim.models.ldamodel:input corpus stream has no len(); counting documents\n",
      "WARNING:gensim.models.ldamodel:too few updates, training might not converge; consider increasing the number of passes or iterations to improve accuracy\n",
      "WARNING:gensim.models.ldamodel:input corpus stream has no len(); counting documents\n",
      "WARNING:gensim.models.ldamodel:too few updates, training might not converge; consider increasing the number of passes or iterations to improve accuracy\n",
      "WARNING:gensim.models.ldamodel:input corpus stream has no len(); counting documents\n",
      "WARNING:gensim.models.ldamodel:too few updates, training might not converge; consider increasing the number of passes or iterations to improve accuracy\n",
      "WARNING:gensim.models.ldamodel:input corpus stream has no len(); counting documents\n",
      "WARNING:gensim.models.ldamodel:too few updates, training might not converge; consider increasing the number of passes or iterations to improve accuracy\n",
      "WARNING:gensim.models.ldamodel:input corpus stream has no len(); counting documents\n",
      "WARNING:gensim.models.ldamodel:too few updates, training might not converge; consider increasing the number of passes or iterations to improve accuracy\n",
      "WARNING:gensim.models.ldamodel:input corpus stream has no len(); counting documents\n",
      "WARNING:gensim.models.ldamodel:too few updates, training might not converge; consider increasing the number of passes or iterations to improve accuracy\n",
      "WARNING:gensim.models.ldamodel:input corpus stream has no len(); counting documents\n",
      "WARNING:gensim.models.ldamodel:too few updates, training might not converge; consider increasing the number of passes or iterations to improve accuracy\n",
      "WARNING:gensim.models.ldamodel:input corpus stream has no len(); counting documents\n",
      "WARNING:gensim.models.ldamodel:too few updates, training might not converge; consider increasing the number of passes or iterations to improve accuracy\n",
      "WARNING:gensim.models.ldamodel:input corpus stream has no len(); counting documents\n",
      "WARNING:gensim.models.ldamodel:too few updates, training might not converge; consider increasing the number of passes or iterations to improve accuracy\n",
      "WARNING:gensim.models.ldamodel:input corpus stream has no len(); counting documents\n",
      "WARNING:gensim.models.ldamodel:too few updates, training might not converge; consider increasing the number of passes or iterations to improve accuracy\n",
      "WARNING:gensim.models.ldamodel:input corpus stream has no len(); counting documents\n",
      "WARNING:gensim.models.ldamodel:too few updates, training might not converge; consider increasing the number of passes or iterations to improve accuracy\n",
      "WARNING:gensim.models.ldamodel:input corpus stream has no len(); counting documents\n",
      "WARNING:gensim.models.ldamodel:too few updates, training might not converge; consider increasing the number of passes or iterations to improve accuracy\n",
      "WARNING:gensim.models.ldamodel:input corpus stream has no len(); counting documents\n",
      "WARNING:gensim.models.ldamodel:too few updates, training might not converge; consider increasing the number of passes or iterations to improve accuracy\n",
      "WARNING:gensim.models.ldamodel:input corpus stream has no len(); counting documents\n",
      "WARNING:gensim.models.ldamodel:too few updates, training might not converge; consider increasing the number of passes or iterations to improve accuracy\n",
      "WARNING:gensim.models.ldamodel:input corpus stream has no len(); counting documents\n",
      "WARNING:gensim.models.ldamodel:too few updates, training might not converge; consider increasing the number of passes or iterations to improve accuracy\n",
      "WARNING:gensim.models.ldamodel:input corpus stream has no len(); counting documents\n",
      "WARNING:gensim.models.ldamodel:too few updates, training might not converge; consider increasing the number of passes or iterations to improve accuracy\n",
      "WARNING:gensim.models.ldamodel:input corpus stream has no len(); counting documents\n",
      "WARNING:gensim.models.ldamodel:too few updates, training might not converge; consider increasing the number of passes or iterations to improve accuracy\n",
      "WARNING:gensim.models.ldamodel:input corpus stream has no len(); counting documents\n",
      "WARNING:gensim.models.ldamodel:too few updates, training might not converge; consider increasing the number of passes or iterations to improve accuracy\n",
      "WARNING:gensim.models.ldamodel:input corpus stream has no len(); counting documents\n",
      "WARNING:gensim.models.ldamodel:too few updates, training might not converge; consider increasing the number of passes or iterations to improve accuracy\n",
      "WARNING:gensim.models.ldamodel:input corpus stream has no len(); counting documents\n",
      "WARNING:gensim.models.ldamodel:too few updates, training might not converge; consider increasing the number of passes or iterations to improve accuracy\n",
      "WARNING:gensim.models.ldamodel:input corpus stream has no len(); counting documents\n",
      "WARNING:gensim.models.ldamodel:too few updates, training might not converge; consider increasing the number of passes or iterations to improve accuracy\n",
      "WARNING:gensim.models.ldamodel:input corpus stream has no len(); counting documents\n",
      "WARNING:gensim.models.ldamodel:too few updates, training might not converge; consider increasing the number of passes or iterations to improve accuracy\n",
      "WARNING:gensim.models.ldamodel:input corpus stream has no len(); counting documents\n",
      "WARNING:gensim.models.ldamodel:too few updates, training might not converge; consider increasing the number of passes or iterations to improve accuracy\n",
      "WARNING:gensim.models.ldamodel:input corpus stream has no len(); counting documents\n",
      "WARNING:gensim.models.ldamodel:too few updates, training might not converge; consider increasing the number of passes or iterations to improve accuracy\n",
      "WARNING:gensim.models.ldamodel:input corpus stream has no len(); counting documents\n",
      "WARNING:gensim.models.ldamodel:too few updates, training might not converge; consider increasing the number of passes or iterations to improve accuracy\n",
      "WARNING:gensim.models.ldamodel:input corpus stream has no len(); counting documents\n",
      "WARNING:gensim.models.ldamodel:too few updates, training might not converge; consider increasing the number of passes or iterations to improve accuracy\n",
      "WARNING:gensim.models.ldamodel:input corpus stream has no len(); counting documents\n",
      "WARNING:gensim.models.ldamodel:too few updates, training might not converge; consider increasing the number of passes or iterations to improve accuracy\n",
      "WARNING:gensim.models.ldamodel:input corpus stream has no len(); counting documents\n",
      "WARNING:gensim.models.ldamodel:too few updates, training might not converge; consider increasing the number of passes or iterations to improve accuracy\n",
      "WARNING:gensim.models.ldamodel:input corpus stream has no len(); counting documents\n",
      "WARNING:gensim.models.ldamodel:too few updates, training might not converge; consider increasing the number of passes or iterations to improve accuracy\n",
      "WARNING:gensim.models.ldamodel:input corpus stream has no len(); counting documents\n",
      "WARNING:gensim.models.ldamodel:too few updates, training might not converge; consider increasing the number of passes or iterations to improve accuracy\n",
      "WARNING:gensim.models.ldamodel:input corpus stream has no len(); counting documents\n",
      "WARNING:gensim.models.ldamodel:too few updates, training might not converge; consider increasing the number of passes or iterations to improve accuracy\n",
      "WARNING:gensim.models.ldamodel:input corpus stream has no len(); counting documents\n",
      "WARNING:gensim.models.ldamodel:too few updates, training might not converge; consider increasing the number of passes or iterations to improve accuracy\n",
      "WARNING:gensim.models.ldamodel:input corpus stream has no len(); counting documents\n",
      "WARNING:gensim.models.ldamodel:too few updates, training might not converge; consider increasing the number of passes or iterations to improve accuracy\n",
      "WARNING:gensim.models.ldamodel:input corpus stream has no len(); counting documents\n",
      "WARNING:gensim.models.ldamodel:too few updates, training might not converge; consider increasing the number of passes or iterations to improve accuracy\n",
      "WARNING:gensim.models.ldamodel:input corpus stream has no len(); counting documents\n",
      "WARNING:gensim.models.ldamodel:too few updates, training might not converge; consider increasing the number of passes or iterations to improve accuracy\n",
      "WARNING:gensim.models.ldamodel:input corpus stream has no len(); counting documents\n",
      "WARNING:gensim.models.ldamodel:too few updates, training might not converge; consider increasing the number of passes or iterations to improve accuracy\n",
      "WARNING:gensim.models.ldamodel:input corpus stream has no len(); counting documents\n",
      "WARNING:gensim.models.ldamodel:too few updates, training might not converge; consider increasing the number of passes or iterations to improve accuracy\n",
      "WARNING:gensim.models.ldamodel:input corpus stream has no len(); counting documents\n",
      "WARNING:gensim.models.ldamodel:too few updates, training might not converge; consider increasing the number of passes or iterations to improve accuracy\n",
      "WARNING:gensim.models.ldamodel:input corpus stream has no len(); counting documents\n",
      "WARNING:gensim.models.ldamodel:too few updates, training might not converge; consider increasing the number of passes or iterations to improve accuracy\n",
      "WARNING:gensim.models.ldamodel:input corpus stream has no len(); counting documents\n",
      "WARNING:gensim.models.ldamodel:too few updates, training might not converge; consider increasing the number of passes or iterations to improve accuracy\n",
      "WARNING:gensim.models.ldamodel:input corpus stream has no len(); counting documents\n",
      "WARNING:gensim.models.ldamodel:too few updates, training might not converge; consider increasing the number of passes or iterations to improve accuracy\n",
      "WARNING:gensim.models.ldamodel:input corpus stream has no len(); counting documents\n",
      "WARNING:gensim.models.ldamodel:too few updates, training might not converge; consider increasing the number of passes or iterations to improve accuracy\n",
      "WARNING:gensim.models.ldamodel:input corpus stream has no len(); counting documents\n",
      "WARNING:gensim.models.ldamodel:too few updates, training might not converge; consider increasing the number of passes or iterations to improve accuracy\n",
      "WARNING:gensim.models.ldamodel:input corpus stream has no len(); counting documents\n",
      "WARNING:gensim.models.ldamodel:too few updates, training might not converge; consider increasing the number of passes or iterations to improve accuracy\n",
      "WARNING:gensim.models.ldamodel:input corpus stream has no len(); counting documents\n",
      "WARNING:gensim.models.ldamodel:too few updates, training might not converge; consider increasing the number of passes or iterations to improve accuracy\n",
      "WARNING:gensim.models.ldamodel:input corpus stream has no len(); counting documents\n",
      "WARNING:gensim.models.ldamodel:too few updates, training might not converge; consider increasing the number of passes or iterations to improve accuracy\n",
      "WARNING:gensim.models.ldamodel:input corpus stream has no len(); counting documents\n",
      "WARNING:gensim.models.ldamodel:too few updates, training might not converge; consider increasing the number of passes or iterations to improve accuracy\n",
      "WARNING:gensim.models.ldamodel:input corpus stream has no len(); counting documents\n",
      "WARNING:gensim.models.ldamodel:too few updates, training might not converge; consider increasing the number of passes or iterations to improve accuracy\n",
      "WARNING:gensim.models.ldamodel:input corpus stream has no len(); counting documents\n",
      "WARNING:gensim.models.ldamodel:too few updates, training might not converge; consider increasing the number of passes or iterations to improve accuracy\n",
      "WARNING:gensim.models.ldamodel:input corpus stream has no len(); counting documents\n",
      "WARNING:gensim.models.ldamodel:too few updates, training might not converge; consider increasing the number of passes or iterations to improve accuracy\n",
      "WARNING:gensim.models.ldamodel:input corpus stream has no len(); counting documents\n",
      "WARNING:gensim.models.ldamodel:too few updates, training might not converge; consider increasing the number of passes or iterations to improve accuracy\n",
      "WARNING:gensim.models.ldamodel:input corpus stream has no len(); counting documents\n",
      "WARNING:gensim.models.ldamodel:too few updates, training might not converge; consider increasing the number of passes or iterations to improve accuracy\n",
      "WARNING:gensim.models.ldamodel:input corpus stream has no len(); counting documents\n",
      "WARNING:gensim.models.ldamodel:too few updates, training might not converge; consider increasing the number of passes or iterations to improve accuracy\n",
      "WARNING:gensim.models.ldamodel:input corpus stream has no len(); counting documents\n",
      "WARNING:gensim.models.ldamodel:too few updates, training might not converge; consider increasing the number of passes or iterations to improve accuracy\n",
      "WARNING:gensim.models.ldamodel:input corpus stream has no len(); counting documents\n",
      "WARNING:gensim.models.ldamodel:too few updates, training might not converge; consider increasing the number of passes or iterations to improve accuracy\n",
      "WARNING:gensim.models.ldamodel:input corpus stream has no len(); counting documents\n",
      "WARNING:gensim.models.ldamodel:too few updates, training might not converge; consider increasing the number of passes or iterations to improve accuracy\n",
      "WARNING:gensim.models.ldamodel:input corpus stream has no len(); counting documents\n",
      "WARNING:gensim.models.ldamodel:too few updates, training might not converge; consider increasing the number of passes or iterations to improve accuracy\n",
      "WARNING:gensim.models.ldamodel:input corpus stream has no len(); counting documents\n",
      "WARNING:gensim.models.ldamodel:too few updates, training might not converge; consider increasing the number of passes or iterations to improve accuracy\n",
      "WARNING:gensim.models.ldamodel:input corpus stream has no len(); counting documents\n",
      "WARNING:gensim.models.ldamodel:too few updates, training might not converge; consider increasing the number of passes or iterations to improve accuracy\n",
      "WARNING:gensim.models.ldamodel:input corpus stream has no len(); counting documents\n",
      "WARNING:gensim.models.ldamodel:too few updates, training might not converge; consider increasing the number of passes or iterations to improve accuracy\n",
      "WARNING:gensim.models.ldamodel:input corpus stream has no len(); counting documents\n",
      "WARNING:gensim.models.ldamodel:too few updates, training might not converge; consider increasing the number of passes or iterations to improve accuracy\n",
      "WARNING:gensim.models.ldamodel:input corpus stream has no len(); counting documents\n",
      "WARNING:gensim.models.ldamodel:too few updates, training might not converge; consider increasing the number of passes or iterations to improve accuracy\n",
      "WARNING:gensim.models.ldamodel:input corpus stream has no len(); counting documents\n",
      "WARNING:gensim.models.ldamodel:too few updates, training might not converge; consider increasing the number of passes or iterations to improve accuracy\n",
      "WARNING:gensim.models.ldamodel:input corpus stream has no len(); counting documents\n",
      "WARNING:gensim.models.ldamodel:too few updates, training might not converge; consider increasing the number of passes or iterations to improve accuracy\n",
      "WARNING:gensim.models.ldamodel:input corpus stream has no len(); counting documents\n",
      "WARNING:gensim.models.ldamodel:too few updates, training might not converge; consider increasing the number of passes or iterations to improve accuracy\n",
      "WARNING:gensim.models.ldamodel:input corpus stream has no len(); counting documents\n",
      "WARNING:gensim.models.ldamodel:too few updates, training might not converge; consider increasing the number of passes or iterations to improve accuracy\n",
      "WARNING:gensim.models.ldamodel:input corpus stream has no len(); counting documents\n",
      "WARNING:gensim.models.ldamodel:too few updates, training might not converge; consider increasing the number of passes or iterations to improve accuracy\n",
      "WARNING:gensim.models.ldamodel:input corpus stream has no len(); counting documents\n",
      "WARNING:gensim.models.ldamodel:too few updates, training might not converge; consider increasing the number of passes or iterations to improve accuracy\n"
     ]
    }
   ],
   "source": [
    "from urllib2 import urlopen\n",
    "from json import load \n",
    "import re, nltk\n",
    "from nltk.stem.wordnet import WordNetLemmatizer\n",
    "from nltk.corpus import wordnet, stopwords\n",
    "import logging\n",
    "logging.basicConfig(format='%(asctime)s : %(levelname)s : %(message)s', \n",
    "    level=logging.INFO)\n",
    "from gensim import corpora, models, similarities, matutils\n",
    "import numpy as np\n",
    "import scipy.stats as stats\n",
    "import matplotlib.pyplot as plt\n",
    " \n",
    "url = 'http://api.npr.org/query?apiKey=' \n",
    "key = 'MDAzMTA2NjkwMDEyOTc4NzIwNzYxOThmNA001'\n",
    "url = url + key\n",
    "url += '&numResults=50&format=json&id=1001'\n",
    "url += '&requiredAssets=text'\n",
    " \n",
    "response = urlopen(url)\n",
    "json_obj = load(response)\n",
    " \n",
    "with open('nprarticles.txt','w') as f:\n",
    "    for story in json_obj['list']['story']:\n",
    "        article = []\n",
    "        for paragraph in story['textWithHtml']['paragraph']:\n",
    "            article.append(paragraph['$text'])\n",
    "        art = ' '.join(article).encode('utf-8')\n",
    "        f.write(art+'\\n')\n",
    "        \n",
    "lmtzr = WordNetLemmatizer()\n",
    "stops = stopwords.words('english')\n",
    "html = re.compile(r'\\<[^\\>]*\\>')\n",
    "nonan = re.compile(r'[^a-zA-Z ]')\n",
    "shortword = re.compile(r'\\W*\\b\\w{1,2}\\b')\n",
    "copyright = 'copyright npr see visit httpwwwnprorg'\n",
    " \n",
    "tag_to_type = {'J': wordnet.ADJ, 'V': wordnet.VERB, 'R': wordnet.ADV}\n",
    "def get_wordnet_pos(treebank_tag):\n",
    "    return tag_to_type.get(treebank_tag[:1], wordnet.NOUN)\n",
    "\n",
    "def clean(text):\n",
    "    clean_text = nonan.sub('',html.sub('',text))\n",
    "    words = nltk.word_tokenize(shortword.sub('',clean_text.lower()))\n",
    "    filtered_words = [w for w in words if not w in stops]\n",
    "    tags = nltk.pos_tag(filtered_words)\n",
    "    return ' '.join(\n",
    "        lmtzr.lemmatize(word, get_wordnet_pos(tag[1]))\n",
    "        for word, tag in zip(filtered_words, tags)\n",
    "    )\n",
    "\n",
    "with open('nprarticles.txt','r') as f:\n",
    "    with open('corpus.txt','w') as f2:\n",
    "        text = []\n",
    "        for line in f:\n",
    "            text.append(line)\n",
    "        f2.truncate()\n",
    "        for line in text:\n",
    "            text = clean(line)\n",
    "            f2.write(text.replace(copyright,'') +'\\n')\n",
    "            \n",
    "def sym_kl(p,q):\n",
    "    return np.sum([stats.entropy(p,q),stats.entropy(q,p)])\n",
    "    \n",
    "dictionary = corpora.Dictionary(line.lower().split() for \n",
    "    line in open('corpus.txt','rb'))\n",
    "once_ids = [tokenid for tokenid, docfreq in \n",
    "    dictionary.dfs.iteritems() if docfreq == 1]\n",
    "dictionary.filter_tokens(once_ids)\n",
    "dictionary.filter_extremes(no_above=5,keep_n=100000)\n",
    "dictionary.compactify()\n",
    "\n",
    "class MyCorpus(object):\n",
    "    def __iter__(self):\n",
    "        for line in open('corpus.txt','r'):\n",
    "            yield dictionary.doc2bow(line.lower().split())\n",
    "\n",
    "my_corpus = MyCorpus()\n",
    "\n",
    "l = np.array([sum(cnt for _, cnt in doc) for doc in my_corpus])\n",
    "def arun(corpus,dictionary,max_topics,step=1,min_topics=1):\n",
    "    kl = []\n",
    "    for i in range(min_topics,max_topics,step):\n",
    "        lda = models.ldamodel.LdaModel(corpus=corpus,\n",
    "            id2word=dictionary,num_topics=i)\n",
    "        m1 = lda.expElogbeta\n",
    "        U,cm1,V = np.linalg.svd(m1)\n",
    "        #Document-topic matrix\n",
    "        lda_topics = lda[my_corpus]\n",
    "        m2 = matutils.corpus2dense(lda_topics, lda.num_topics).transpose()\n",
    "        cm2 = l.dot(m2)\n",
    "        cm2 = cm2 + 0.0001\n",
    "        cm2norm = np.linalg.norm(l)\n",
    "        cm2 = cm2/cm2norm\n",
    "        kl.append(sym_kl(cm1,cm2))\n",
    "    return kl\n",
    "    \n",
    "kl = arun(my_corpus,dictionary,max_topics=100)\n",
    "\n",
    "# Plot kl divergence against number of topics\n",
    "plt.plot(kl)\n",
    "plt.ylabel('Symmetric KL Divergence')\n",
    "plt.xlabel('Number of Topics')\n",
    "plt.savefig('kldiv.png', bbox_inches='tight')"
   ]
  },
  {
   "cell_type": "code",
   "execution_count": 100,
   "metadata": {
    "collapsed": true
   },
   "outputs": [],
   "source": [
    "import pandas as pd\n",
    "import numpy as np"
   ]
  },
  {
   "cell_type": "code",
   "execution_count": 113,
   "metadata": {
    "collapsed": false
   },
   "outputs": [],
   "source": [
    "df = pd.DataFrame({'a':np.random.rand(100),'b':np.random.rand(100)})\n"
   ]
  },
  {
   "cell_type": "code",
   "execution_count": 117,
   "metadata": {
    "collapsed": false
   },
   "outputs": [
    {
     "data": {
      "text/html": [
       "<div>\n",
       "<table border=\"1\" class=\"dataframe\">\n",
       "  <thead>\n",
       "    <tr style=\"text-align: right;\">\n",
       "      <th></th>\n",
       "      <th>a</th>\n",
       "      <th>b</th>\n",
       "    </tr>\n",
       "  </thead>\n",
       "  <tbody>\n",
       "    <tr>\n",
       "      <th>0</th>\n",
       "      <td>0.452066</td>\n",
       "      <td>0.935207</td>\n",
       "    </tr>\n",
       "    <tr>\n",
       "      <th>1</th>\n",
       "      <td>0.559148</td>\n",
       "      <td>0.832862</td>\n",
       "    </tr>\n",
       "    <tr>\n",
       "      <th>2</th>\n",
       "      <td>0.740197</td>\n",
       "      <td>0.640188</td>\n",
       "    </tr>\n",
       "    <tr>\n",
       "      <th>3</th>\n",
       "      <td>0.523464</td>\n",
       "      <td>0.045727</td>\n",
       "    </tr>\n",
       "    <tr>\n",
       "      <th>4</th>\n",
       "      <td>0.731911</td>\n",
       "      <td>0.928052</td>\n",
       "    </tr>\n",
       "    <tr>\n",
       "      <th>5</th>\n",
       "      <td>0.623622</td>\n",
       "      <td>0.754590</td>\n",
       "    </tr>\n",
       "    <tr>\n",
       "      <th>6</th>\n",
       "      <td>0.048967</td>\n",
       "      <td>0.509885</td>\n",
       "    </tr>\n",
       "    <tr>\n",
       "      <th>7</th>\n",
       "      <td>0.143387</td>\n",
       "      <td>0.416344</td>\n",
       "    </tr>\n",
       "    <tr>\n",
       "      <th>8</th>\n",
       "      <td>0.457600</td>\n",
       "      <td>0.470559</td>\n",
       "    </tr>\n",
       "    <tr>\n",
       "      <th>9</th>\n",
       "      <td>0.002760</td>\n",
       "      <td>0.926286</td>\n",
       "    </tr>\n",
       "    <tr>\n",
       "      <th>10</th>\n",
       "      <td>0.571218</td>\n",
       "      <td>0.045990</td>\n",
       "    </tr>\n",
       "    <tr>\n",
       "      <th>11</th>\n",
       "      <td>0.063778</td>\n",
       "      <td>0.202298</td>\n",
       "    </tr>\n",
       "    <tr>\n",
       "      <th>12</th>\n",
       "      <td>0.401746</td>\n",
       "      <td>0.401773</td>\n",
       "    </tr>\n",
       "    <tr>\n",
       "      <th>13</th>\n",
       "      <td>0.890577</td>\n",
       "      <td>0.556049</td>\n",
       "    </tr>\n",
       "    <tr>\n",
       "      <th>14</th>\n",
       "      <td>0.261069</td>\n",
       "      <td>0.305082</td>\n",
       "    </tr>\n",
       "    <tr>\n",
       "      <th>15</th>\n",
       "      <td>0.490645</td>\n",
       "      <td>0.991351</td>\n",
       "    </tr>\n",
       "    <tr>\n",
       "      <th>16</th>\n",
       "      <td>0.783044</td>\n",
       "      <td>0.542866</td>\n",
       "    </tr>\n",
       "    <tr>\n",
       "      <th>17</th>\n",
       "      <td>0.988662</td>\n",
       "      <td>0.954138</td>\n",
       "    </tr>\n",
       "    <tr>\n",
       "      <th>18</th>\n",
       "      <td>0.901793</td>\n",
       "      <td>0.986649</td>\n",
       "    </tr>\n",
       "    <tr>\n",
       "      <th>19</th>\n",
       "      <td>0.160031</td>\n",
       "      <td>0.871194</td>\n",
       "    </tr>\n",
       "    <tr>\n",
       "      <th>20</th>\n",
       "      <td>0.186956</td>\n",
       "      <td>0.764613</td>\n",
       "    </tr>\n",
       "    <tr>\n",
       "      <th>21</th>\n",
       "      <td>0.339282</td>\n",
       "      <td>0.573777</td>\n",
       "    </tr>\n",
       "    <tr>\n",
       "      <th>22</th>\n",
       "      <td>0.297232</td>\n",
       "      <td>0.697594</td>\n",
       "    </tr>\n",
       "    <tr>\n",
       "      <th>23</th>\n",
       "      <td>0.022118</td>\n",
       "      <td>0.876315</td>\n",
       "    </tr>\n",
       "    <tr>\n",
       "      <th>24</th>\n",
       "      <td>0.304719</td>\n",
       "      <td>0.408914</td>\n",
       "    </tr>\n",
       "    <tr>\n",
       "      <th>25</th>\n",
       "      <td>0.705189</td>\n",
       "      <td>0.694384</td>\n",
       "    </tr>\n",
       "    <tr>\n",
       "      <th>26</th>\n",
       "      <td>0.574634</td>\n",
       "      <td>0.874750</td>\n",
       "    </tr>\n",
       "    <tr>\n",
       "      <th>27</th>\n",
       "      <td>0.602273</td>\n",
       "      <td>0.904118</td>\n",
       "    </tr>\n",
       "    <tr>\n",
       "      <th>28</th>\n",
       "      <td>0.004620</td>\n",
       "      <td>0.493432</td>\n",
       "    </tr>\n",
       "    <tr>\n",
       "      <th>29</th>\n",
       "      <td>0.984146</td>\n",
       "      <td>0.797076</td>\n",
       "    </tr>\n",
       "    <tr>\n",
       "      <th>...</th>\n",
       "      <td>...</td>\n",
       "      <td>...</td>\n",
       "    </tr>\n",
       "    <tr>\n",
       "      <th>70</th>\n",
       "      <td>0.298716</td>\n",
       "      <td>0.048179</td>\n",
       "    </tr>\n",
       "    <tr>\n",
       "      <th>71</th>\n",
       "      <td>0.365016</td>\n",
       "      <td>0.459241</td>\n",
       "    </tr>\n",
       "    <tr>\n",
       "      <th>72</th>\n",
       "      <td>0.424263</td>\n",
       "      <td>0.734150</td>\n",
       "    </tr>\n",
       "    <tr>\n",
       "      <th>73</th>\n",
       "      <td>0.718509</td>\n",
       "      <td>0.772552</td>\n",
       "    </tr>\n",
       "    <tr>\n",
       "      <th>74</th>\n",
       "      <td>0.527960</td>\n",
       "      <td>0.711704</td>\n",
       "    </tr>\n",
       "    <tr>\n",
       "      <th>75</th>\n",
       "      <td>0.924784</td>\n",
       "      <td>0.022154</td>\n",
       "    </tr>\n",
       "    <tr>\n",
       "      <th>76</th>\n",
       "      <td>0.718508</td>\n",
       "      <td>0.593956</td>\n",
       "    </tr>\n",
       "    <tr>\n",
       "      <th>77</th>\n",
       "      <td>0.123182</td>\n",
       "      <td>0.342852</td>\n",
       "    </tr>\n",
       "    <tr>\n",
       "      <th>78</th>\n",
       "      <td>0.489056</td>\n",
       "      <td>0.978878</td>\n",
       "    </tr>\n",
       "    <tr>\n",
       "      <th>79</th>\n",
       "      <td>0.615180</td>\n",
       "      <td>0.945692</td>\n",
       "    </tr>\n",
       "    <tr>\n",
       "      <th>80</th>\n",
       "      <td>0.670643</td>\n",
       "      <td>0.097427</td>\n",
       "    </tr>\n",
       "    <tr>\n",
       "      <th>81</th>\n",
       "      <td>0.502989</td>\n",
       "      <td>0.745361</td>\n",
       "    </tr>\n",
       "    <tr>\n",
       "      <th>82</th>\n",
       "      <td>0.627800</td>\n",
       "      <td>0.205544</td>\n",
       "    </tr>\n",
       "    <tr>\n",
       "      <th>83</th>\n",
       "      <td>0.757351</td>\n",
       "      <td>0.004251</td>\n",
       "    </tr>\n",
       "    <tr>\n",
       "      <th>84</th>\n",
       "      <td>0.577248</td>\n",
       "      <td>0.095033</td>\n",
       "    </tr>\n",
       "    <tr>\n",
       "      <th>85</th>\n",
       "      <td>0.886431</td>\n",
       "      <td>0.566839</td>\n",
       "    </tr>\n",
       "    <tr>\n",
       "      <th>86</th>\n",
       "      <td>0.884684</td>\n",
       "      <td>0.015514</td>\n",
       "    </tr>\n",
       "    <tr>\n",
       "      <th>87</th>\n",
       "      <td>0.098150</td>\n",
       "      <td>0.882700</td>\n",
       "    </tr>\n",
       "    <tr>\n",
       "      <th>88</th>\n",
       "      <td>0.611336</td>\n",
       "      <td>0.449215</td>\n",
       "    </tr>\n",
       "    <tr>\n",
       "      <th>89</th>\n",
       "      <td>0.544297</td>\n",
       "      <td>0.529499</td>\n",
       "    </tr>\n",
       "    <tr>\n",
       "      <th>90</th>\n",
       "      <td>0.192498</td>\n",
       "      <td>0.793076</td>\n",
       "    </tr>\n",
       "    <tr>\n",
       "      <th>91</th>\n",
       "      <td>0.640020</td>\n",
       "      <td>0.756718</td>\n",
       "    </tr>\n",
       "    <tr>\n",
       "      <th>92</th>\n",
       "      <td>0.512809</td>\n",
       "      <td>0.739856</td>\n",
       "    </tr>\n",
       "    <tr>\n",
       "      <th>93</th>\n",
       "      <td>0.346735</td>\n",
       "      <td>0.013217</td>\n",
       "    </tr>\n",
       "    <tr>\n",
       "      <th>94</th>\n",
       "      <td>0.486141</td>\n",
       "      <td>0.801001</td>\n",
       "    </tr>\n",
       "    <tr>\n",
       "      <th>95</th>\n",
       "      <td>0.684352</td>\n",
       "      <td>0.082831</td>\n",
       "    </tr>\n",
       "    <tr>\n",
       "      <th>96</th>\n",
       "      <td>0.321848</td>\n",
       "      <td>0.601397</td>\n",
       "    </tr>\n",
       "    <tr>\n",
       "      <th>97</th>\n",
       "      <td>0.574626</td>\n",
       "      <td>0.665142</td>\n",
       "    </tr>\n",
       "    <tr>\n",
       "      <th>98</th>\n",
       "      <td>0.118196</td>\n",
       "      <td>0.074753</td>\n",
       "    </tr>\n",
       "    <tr>\n",
       "      <th>99</th>\n",
       "      <td>0.592555</td>\n",
       "      <td>0.774344</td>\n",
       "    </tr>\n",
       "  </tbody>\n",
       "</table>\n",
       "<p>100 rows × 2 columns</p>\n",
       "</div>"
      ],
      "text/plain": [
       "           a         b\n",
       "0   0.452066  0.935207\n",
       "1   0.559148  0.832862\n",
       "2   0.740197  0.640188\n",
       "3   0.523464  0.045727\n",
       "4   0.731911  0.928052\n",
       "5   0.623622  0.754590\n",
       "6   0.048967  0.509885\n",
       "7   0.143387  0.416344\n",
       "8   0.457600  0.470559\n",
       "9   0.002760  0.926286\n",
       "10  0.571218  0.045990\n",
       "11  0.063778  0.202298\n",
       "12  0.401746  0.401773\n",
       "13  0.890577  0.556049\n",
       "14  0.261069  0.305082\n",
       "15  0.490645  0.991351\n",
       "16  0.783044  0.542866\n",
       "17  0.988662  0.954138\n",
       "18  0.901793  0.986649\n",
       "19  0.160031  0.871194\n",
       "20  0.186956  0.764613\n",
       "21  0.339282  0.573777\n",
       "22  0.297232  0.697594\n",
       "23  0.022118  0.876315\n",
       "24  0.304719  0.408914\n",
       "25  0.705189  0.694384\n",
       "26  0.574634  0.874750\n",
       "27  0.602273  0.904118\n",
       "28  0.004620  0.493432\n",
       "29  0.984146  0.797076\n",
       "..       ...       ...\n",
       "70  0.298716  0.048179\n",
       "71  0.365016  0.459241\n",
       "72  0.424263  0.734150\n",
       "73  0.718509  0.772552\n",
       "74  0.527960  0.711704\n",
       "75  0.924784  0.022154\n",
       "76  0.718508  0.593956\n",
       "77  0.123182  0.342852\n",
       "78  0.489056  0.978878\n",
       "79  0.615180  0.945692\n",
       "80  0.670643  0.097427\n",
       "81  0.502989  0.745361\n",
       "82  0.627800  0.205544\n",
       "83  0.757351  0.004251\n",
       "84  0.577248  0.095033\n",
       "85  0.886431  0.566839\n",
       "86  0.884684  0.015514\n",
       "87  0.098150  0.882700\n",
       "88  0.611336  0.449215\n",
       "89  0.544297  0.529499\n",
       "90  0.192498  0.793076\n",
       "91  0.640020  0.756718\n",
       "92  0.512809  0.739856\n",
       "93  0.346735  0.013217\n",
       "94  0.486141  0.801001\n",
       "95  0.684352  0.082831\n",
       "96  0.321848  0.601397\n",
       "97  0.574626  0.665142\n",
       "98  0.118196  0.074753\n",
       "99  0.592555  0.774344\n",
       "\n",
       "[100 rows x 2 columns]"
      ]
     },
     "execution_count": 117,
     "metadata": {},
     "output_type": "execute_result"
    }
   ],
   "source": [
    "df2 = df.drop('b', axis=1)\n",
    "df2[0] = 7\n",
    "df"
   ]
  },
  {
   "cell_type": "code",
   "execution_count": null,
   "metadata": {
    "collapsed": true
   },
   "outputs": [],
   "source": []
  }
 ],
 "metadata": {
  "kernelspec": {
   "display_name": "Python 3",
   "language": "python",
   "name": "python3"
  },
  "language_info": {
   "codemirror_mode": {
    "name": "ipython",
    "version": 3
   },
   "file_extension": ".py",
   "mimetype": "text/x-python",
   "name": "python",
   "nbconvert_exporter": "python",
   "pygments_lexer": "ipython3",
   "version": "3.5.1"
  }
 },
 "nbformat": 4,
 "nbformat_minor": 0
}
