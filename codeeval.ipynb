{
 "cells": [
  {
   "cell_type": "code",
   "execution_count": 47,
   "metadata": {
    "collapsed": false
   },
   "outputs": [
    {
     "name": "stdout",
     "output_type": "stream",
     "text": [
      "true\n"
     ]
    }
   ],
   "source": [
    "x = \"ing@oin.com wef@oij.we\"\n",
    "import re\n",
    "pattern = re.compile(\"[^@]+@[^@]+\\.[^@]+\\s\")\n",
    "if test:\n",
    "    if pattern.match(x):\n",
    "        print \"true\"\n",
    "    else:\n",
    "        print \"false\""
   ]
  },
  {
   "cell_type": "code",
   "execution_count": 38,
   "metadata": {
    "collapsed": false
   },
   "outputs": [
    {
     "data": {
      "text/plain": [
       "'ing@oin.com '"
      ]
     },
     "execution_count": 38,
     "metadata": {},
     "output_type": "execute_result"
    }
   ],
   "source": [
    "pattern.match(x).group(0)"
   ]
  },
  {
   "cell_type": "code",
   "execution_count": 90,
   "metadata": {
    "collapsed": false,
    "scrolled": true
   },
   "outputs": [
    {
     "name": "stdout",
     "output_type": "stream",
     "text": [
      "false\n",
      "hfij#kjdfvkl\n",
      "\n",
      "true\n",
      "a\"b(c)d,e:f;g<h>i[j\\k]l@example.com\n",
      "\n",
      "false\n",
      "\"very.unusual.@.unusual.com\"@example.com\n",
      "\n",
      "false\n",
      "this is not true\n",
      "\n",
      "true\n",
      "a.little.lengthy.but.fine@dept.example.com\n",
      "\n",
      "true\n",
      "<invalid>@foo.com\n",
      "\n",
      "true\n",
      "bob123@alice123.com\n",
      "\n",
      "true\n",
      "niceandsimple@example.com\n",
      "\n",
      "true\n",
      "just\"not\"right@example.com\n",
      "\n",
      "true\n",
      "disposable.style.email.with+156@example.com\n",
      "\n",
      "true\n",
      "this\\ still\\\"not\\\\allowed@example.com\n",
      "\n",
      "true\n",
      "A@b@c@example.com\n",
      "\n",
      "true\n",
      "very.common@example.com\n",
      "\n",
      "false\n",
      "Abc.example.com\n",
      "\n",
      "true\n",
      "this is\"not\\allowed@example.com\n",
      "\n",
      "true\n",
      "b@domain.net\n",
      "\n",
      "true\n",
      "asterisk_domain@foo.*\n",
      "\n",
      "true\n",
      "disposable.style.email.with+symbol@example.com\n",
      "\n",
      "true\n",
      "b@d.net\n",
      "\n",
      "true\n",
      "1@d.net\n",
      "\n"
     ]
    }
   ],
   "source": [
    "test_cases = open('file.txt','r')\n",
    "\"((^|, )(part1|part2|part3))+$\"\n",
    "# (^\\\".+\\\"$|[^<>\\\"\\s\\\\@])\n",
    "for test in test_cases:\n",
    "    pattern = re.compile(\"([^\\\"].*[^\\\"]|[^<>\\\"\\s\\\\@])+@[^<>\\\"\\s\\\\@]+\\.[^<>\\\"\\s\\\\@]+\\s\")  \n",
    "    if test != \"\\n\":\n",
    "        if pattern.match(test):\n",
    "            print \"true\"\n",
    "            print test\n",
    "        else:\n",
    "            print \"false\"\n",
    "            print test"
   ]
  },
  {
   "cell_type": "code",
   "execution_count": 79,
   "metadata": {
    "collapsed": false
   },
   "outputs": [
    {
     "name": "stdout",
     "output_type": "stream",
     "text": [
      "hfij#kjdfvkl\n",
      "\n",
      "\n",
      "\n",
      "a\"b(c)d,e:f;g<h>i[j\\k]l@example.com\n",
      "\n",
      "\n",
      "\n",
      "\"very.unusual.@.unusual.com\"@example.com\n",
      "\n",
      "\n",
      "\n",
      "this is not true\n",
      "\n",
      "\n",
      "\n",
      "a.little.lengthy.but.fine@dept.example.com\n",
      "\n",
      "\n",
      "\n",
      "<invalid>@foo.com\n",
      "\n",
      "\n",
      "\n",
      "bob123@alice123.com\n",
      "\n",
      "\n",
      "\n",
      "niceandsimple@example.com\n",
      "\n",
      "\n",
      "\n",
      "just\"not\"right@example.com\n",
      "\n",
      "\n",
      "\n",
      "disposable.style.email.with+156@example.com\n",
      "\n",
      "\n",
      "\n",
      "this\\ still\\\"not\\\\allowed@example.com\n",
      "\n",
      "\n",
      "\n",
      "A@b@c@example.com\n",
      "\n",
      "\n",
      "\n",
      "very.common@example.com\n",
      "\n",
      "\n",
      "\n",
      "Abc.example.com\n",
      "\n",
      "\n",
      "\n",
      "this is\"not\\allowed@example.com\n",
      "\n",
      "\n",
      "\n",
      "b@domain.net\n",
      "\n",
      "\n",
      "\n",
      "asterisk_domain@foo.*\n",
      "\n",
      "\n",
      "\n",
      "disposable.style.email.with+symbol@example.com\n",
      "\n",
      "\n",
      "\n",
      "b@d.net\n",
      "\n",
      "\n",
      "\n",
      "1@d.net\n",
      "\n"
     ]
    }
   ],
   "source": [
    "test_cases = open('file.txt','r')\n",
    "\n",
    "for test in test_cases:\n",
    "    print test"
   ]
  },
  {
   "cell_type": "code",
   "execution_count": null,
   "metadata": {
    "collapsed": true
   },
   "outputs": [],
   "source": []
  }
 ],
 "metadata": {
  "kernelspec": {
   "display_name": "Python 2",
   "language": "python",
   "name": "python2"
  },
  "language_info": {
   "codemirror_mode": {
    "name": "ipython",
    "version": 2
   },
   "file_extension": ".py",
   "mimetype": "text/x-python",
   "name": "python",
   "nbconvert_exporter": "python",
   "pygments_lexer": "ipython2",
   "version": "2.7.11"
  }
 },
 "nbformat": 4,
 "nbformat_minor": 0
}
