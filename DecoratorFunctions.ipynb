{
 "cells": [
  {
   "cell_type": "code",
   "execution_count": null,
   "metadata": {
    "collapsed": true
   },
   "outputs": [],
   "source": [
    "import time\n",
    "\n",
    "# this is a decorator\n",
    "def slow_down (function):\n",
    "    def new_function (x,y):\n",
    "        time.sleep(2)\n",
    "        return function(x,y)\n",
    "    return new_function\n",
    "\n",
    "def foo (x, y):\n",
    "    return x+y\n",
    "\n",
    "slow_foo = slow_down(foo)\n",
    "\n",
    "# try"
   ]
  },
  {
   "cell_type": "code",
   "execution_count": null,
   "metadata": {
    "collapsed": true
   },
   "outputs": [],
   "source": [
    "import time\n",
    "\n",
    "# this is a decorator\n",
    "def slow_down (function):\n",
    "    time.sleep(2)\n",
    "    return function\n",
    "\n",
    "def foo (x, y):\n",
    "    return x+y\n",
    "\n",
    "slow_foo = slow_down(foo)"
   ]
  },
  {
   "cell_type": "code",
   "execution_count": null,
   "metadata": {
    "collapsed": true
   },
   "outputs": [],
   "source": [
    "import time\n",
    "\n",
    "# this is a decorator\n",
    "def slow_down (function):\n",
    "    def new_function (x,y):\n",
    "        time.sleep(2)\n",
    "        return function(x,y)\n",
    "    return new_function"
   ]
  },
  {
   "cell_type": "code",
   "execution_count": null,
   "metadata": {
    "collapsed": true
   },
   "outputs": [],
   "source": [
    "import time\n",
    "\n",
    "# this is a decorator\n",
    "def slow_down (function):\n",
    "    def new_function (x,y):\n",
    "        time.sleep(2)\n",
    "        return function(x,y)\n",
    "    return new_function\n",
    "\n",
    "@slow_down\n",
    "def foo (x, y):\n",
    "    return x+y"
   ]
  },
  {
   "cell_type": "code",
   "execution_count": 39,
   "metadata": {
    "collapsed": false
   },
   "outputs": [],
   "source": [
    "import time\n",
    "\n",
    "# this is a decorator\n",
    "def talky (function):\n",
    "    def new_function (*args):\n",
    "        time.sleep(2)   \n",
    "        return (\"hi \"+str(function(*args)))\n",
    "        #return \"Oh hi! The result sure is \"+str(x**2)+\"!\"\n",
    "    return new_function\n",
    "\n",
    "@talky\n",
    "def square (x):\n",
    "    return x * x"
   ]
  },
  {
   "cell_type": "code",
   "execution_count": 40,
   "metadata": {
    "collapsed": false
   },
   "outputs": [
    {
     "data": {
      "text/plain": [
       "'hi 4'"
      ]
     },
     "execution_count": 40,
     "metadata": {},
     "output_type": "execute_result"
    }
   ],
   "source": [
    "square(2)"
   ]
  },
  {
   "cell_type": "code",
   "execution_count": 26,
   "metadata": {
    "collapsed": false
   },
   "outputs": [],
   "source": [
    "def talky_with(name):\n",
    "    def talky(function):\n",
    "        def new_function (x):       \n",
    "            return \"oh hi\"+name+\"sodifj\"+str(x*x)\n",
    "        return new_function\n",
    "    return talky"
   ]
  },
  {
   "cell_type": "code",
   "execution_count": 27,
   "metadata": {
    "collapsed": false
   },
   "outputs": [],
   "source": [
    "@talky_with(\"Aaron\")\n",
    "def square(x):\n",
    "    return x * x"
   ]
  },
  {
   "cell_type": "code",
   "execution_count": 28,
   "metadata": {
    "collapsed": false
   },
   "outputs": [],
   "source": [
    "answer = square(5)"
   ]
  },
  {
   "cell_type": "code",
   "execution_count": 29,
   "metadata": {
    "collapsed": false
   },
   "outputs": [
    {
     "data": {
      "text/plain": [
       "'oh hiAaronsodifj25'"
      ]
     },
     "execution_count": 29,
     "metadata": {},
     "output_type": "execute_result"
    }
   ],
   "source": [
    "answer"
   ]
  },
  {
   "cell_type": "code",
   "execution_count": null,
   "metadata": {
    "collapsed": true
   },
   "outputs": [],
   "source": [
    "import time\n",
    "\n",
    "def slow_down (function):\n",
    "    def new_function (x,y):\n",
    "        time.sleep(2)\n",
    "        return function(x,y)\n",
    "    return new_function\n",
    "\n",
    "def cache (function):\n",
    "    function_cache = {}\n",
    "    def new_function (x,y):\n",
    "        if not ((x,y) in function_cache):\n",
    "            function_cache[(x,y)] = function(x,y)\n",
    "        return function_cache[(x,y)]\n",
    "    return new_function\n",
    "\n",
    "def foo (x, y):\n",
    "    return x+y\n",
    "\n",
    "foo = cache(slow_down(foo))"
   ]
  },
  {
   "cell_type": "code",
   "execution_count": null,
   "metadata": {
    "collapsed": false
   },
   "outputs": [],
   "source": [
    "foo(1,2)"
   ]
  },
  {
   "cell_type": "code",
   "execution_count": 30,
   "metadata": {
    "collapsed": false
   },
   "outputs": [
    {
     "ename": "NameError",
     "evalue": "name 'lru_cache' is not defined",
     "output_type": "error",
     "traceback": [
      "\u001b[0;31m---------------------------------------------------------------------------\u001b[0m",
      "\u001b[0;31mNameError\u001b[0m                                 Traceback (most recent call last)",
      "\u001b[0;32m<ipython-input-30-a9db09c6a058>\u001b[0m in \u001b[0;36m<module>\u001b[0;34m()\u001b[0m\n\u001b[0;32m----> 1\u001b[0;31m \u001b[0mlru_cache\u001b[0m\u001b[0;34m\u001b[0m\u001b[0m\n\u001b[0m",
      "\u001b[0;31mNameError\u001b[0m: name 'lru_cache' is not defined"
     ]
    }
   ],
   "source": [
    "lru_cache"
   ]
  },
  {
   "cell_type": "code",
   "execution_count": null,
   "metadata": {
    "collapsed": true
   },
   "outputs": [],
   "source": [
    "2+sqrt(2+sqrt(2+sqrt(2...))) = ?"
   ]
  },
  {
   "cell_type": "code",
   "execution_count": null,
   "metadata": {
    "collapsed": true
   },
   "outputs": [],
   "source": []
  }
 ],
 "metadata": {
  "kernelspec": {
   "display_name": "Python 3",
   "language": "python",
   "name": "python3"
  }
 },
 "nbformat": 4,
 "nbformat_minor": 0
}
