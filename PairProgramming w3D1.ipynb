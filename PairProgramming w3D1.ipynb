{
 "cells": [
  {
   "cell_type": "raw",
   "metadata": {},
   "source": [
    "- A list of lists, X_train, where each inner list is of length three and represents the position of a Wookiee in space, along the traditional x, y, and z axes.\n",
    "- A list of strings, y, the same length as the outer list X_train, where each string represents the color of a Wookiee at the corresponding position.\n",
    "- A list of lists, X_test, where each inner list is of length three and represents the position in space of a Wookiee of unknown color."
   ]
  },
  {
   "cell_type": "code",
   "execution_count": 29,
   "metadata": {
    "collapsed": true
   },
   "outputs": [],
   "source": [
    "X_train = [[1,   1,  1],\n",
    "           [0,   0,  0],\n",
    "           [-1, -1, -1],\n",
    "           [10, 10, 10]]\n",
    "y_train = ['red',\n",
    "           'white',\n",
    "           'blue',\n",
    "           'chartreuse']\n",
    "\n",
    "X_test = [[1.1, 1.1, 1.1],[0,0,0]]"
   ]
  },
  {
   "cell_type": "code",
   "execution_count": 6,
   "metadata": {
    "collapsed": false
   },
   "outputs": [
    {
     "data": {
      "text/plain": [
       "1.1"
      ]
     },
     "execution_count": 6,
     "metadata": {},
     "output_type": "execute_result"
    }
   ],
   "source": [
    "X_test[0][0]"
   ]
  },
  {
   "cell_type": "code",
   "execution_count": 19,
   "metadata": {
    "collapsed": false
   },
   "outputs": [
    {
     "ename": "NameError",
     "evalue": "name 'your_function' is not defined",
     "output_type": "error",
     "traceback": [
      "\u001b[0;31m---------------------------------------------------------------------------\u001b[0m",
      "\u001b[0;31mNameError\u001b[0m                                 Traceback (most recent call last)",
      "\u001b[0;32m<ipython-input-19-93e2e45a0321>\u001b[0m in \u001b[0;36m<module>\u001b[0;34m()\u001b[0m\n\u001b[1;32m      1\u001b[0m \u001b[0;32mimport\u001b[0m \u001b[0mnumpy\u001b[0m \u001b[0;32mas\u001b[0m \u001b[0mnp\u001b[0m\u001b[0;34m\u001b[0m\u001b[0m\n\u001b[1;32m      2\u001b[0m \u001b[0;34m\u001b[0m\u001b[0m\n\u001b[0;32m----> 3\u001b[0;31m \u001b[0;32mfor\u001b[0m \u001b[0mresult\u001b[0m \u001b[0;32min\u001b[0m \u001b[0myour_function\u001b[0m\u001b[0;34m(\u001b[0m\u001b[0mX_train\u001b[0m\u001b[0;34m,\u001b[0m \u001b[0my_train\u001b[0m\u001b[0;34m,\u001b[0m \u001b[0mX_test\u001b[0m\u001b[0;34m)\u001b[0m\u001b[0;34m:\u001b[0m\u001b[0;34m\u001b[0m\u001b[0m\n\u001b[0m\u001b[1;32m      4\u001b[0m \u001b[0;34m\u001b[0m\u001b[0m\n\u001b[1;32m      5\u001b[0m     val = np.sqrt((X_test[0][0] - X_train[0][0])**2+\n",
      "\u001b[0;31mNameError\u001b[0m: name 'your_function' is not defined"
     ]
    }
   ],
   "source": [
    "import numpy as np\n",
    "\n",
    "for result in your_function(X_train, y_train, X_test):\n",
    "    \n",
    "    val = np.sqrt((X_test[0][0] - X_train[0][0])**2+\n",
    "            (X_test[0][1] - X_train[0][1])**2+\n",
    "            (X_test[0][2] - X_train[0][2])**2)\n",
    "    [x for x in arr]\n",
    "    print result"
   ]
  },
  {
   "cell_type": "code",
   "execution_count": 31,
   "metadata": {
    "collapsed": false
   },
   "outputs": [],
   "source": [
    "def wookie_color(X_train, y_train, X_test):\n",
    "    wookie_colors = []\n",
    "    for wookie in range(0,len(X_test)):\n",
    "        distances = [np.sqrt(sum((val-X_test[wookie][i])**2 \n",
    "                                 for i,val in enumerate(x))) \n",
    "                                 for x in X_train]\n",
    "        wookie_colors.append(y_train[distances.index(min(distances))])\n",
    "    return wookie_colors\n"
   ]
  },
  {
   "cell_type": "code",
   "execution_count": 34,
   "metadata": {
    "collapsed": false
   },
   "outputs": [
    {
     "data": {
      "text/plain": [
       "['red', 'white']"
      ]
     },
     "execution_count": 34,
     "metadata": {},
     "output_type": "execute_result"
    }
   ],
   "source": [
    "wookie_color(X_train, y_train, X_test)"
   ]
  },
  {
   "cell_type": "code",
   "execution_count": 85,
   "metadata": {
    "collapsed": true
   },
   "outputs": [],
   "source": [
    "def wookie_color(X_train, y_train, X_test,k):\n",
    "    wookies = []\n",
    "    for wookie in range(0,len(X_test)):\n",
    "        distances = [np.sqrt(sum((val-X_test[wookie][i])**2 \n",
    "                                 for i,val in enumerate(x))) \n",
    "                                 for x in X_train]\n",
    "        \n",
    "        close_wookies = sorted([(dist,i) for i,dist in enumerate(distances)])[0:k]\n",
    "        k_closest_wookies = [x[1] for x in close_wookies]\n",
    "        wookies.append([y_train[wookie] for wookie in k_closest_wookies])\n",
    "    return wookies\n"
   ]
  },
  {
   "cell_type": "code",
   "execution_count": 86,
   "metadata": {
    "collapsed": false
   },
   "outputs": [
    {
     "data": {
      "text/plain": [
       "[['red', 'white'], ['white', 'red']]"
      ]
     },
     "execution_count": 86,
     "metadata": {},
     "output_type": "execute_result"
    }
   ],
   "source": [
    "wookie_color(X_train, y_train, X_test,2)"
   ]
  },
  {
   "cell_type": "code",
   "execution_count": 87,
   "metadata": {
    "collapsed": true
   },
   "outputs": [],
   "source": [
    "def distance(left, right):\n",
    "    return sum((l-r)**2 for l, r in zip(left, right))**0.5\n",
    "\n",
    "class NearestColorKey(object):\n",
    "    def __init__(self, goal):\n",
    "        self.goal = goal\n",
    "    def __call__(self, item):\n",
    "        return distance(self.goal, item[1])"
   ]
  },
  {
   "cell_type": "code",
   "execution_count": 90,
   "metadata": {
    "collapsed": false
   },
   "outputs": [
    {
     "name": "stdout",
     "output_type": "stream",
     "text": [
      "3.63730669589\n",
      "1.90525588833\n",
      "15.4152521874\n",
      "0.173205080757\n"
     ]
    },
    {
     "data": {
      "text/plain": [
       "('red', [1, 1, 1])"
      ]
     },
     "execution_count": 90,
     "metadata": {},
     "output_type": "execute_result"
    }
   ],
   "source": [
    "X_train = [[1,   1,  1],\n",
    "           [0,   0,  0],\n",
    "           [-1, -1, -1],\n",
    "           [10, 10, 10]]\n",
    "\n",
    "y_train = ['red',\n",
    "           'white',\n",
    "           'blue',\n",
    "           'chartreuse']\n",
    "colors=dict(zip( y_train, X_train))\n",
    "\n",
    "\n",
    "def distance(left, right):\n",
    "    print sum((l-r)**2 for l, r in zip(left, right))**0.5\n",
    "    return sum((l-r)**2 for l, r in zip(left, right))**0.5\n",
    "\n",
    "\n",
    "class NearestColorKey(object):\n",
    "    def __init__(self, goal):\n",
    "        self.goal = goal\n",
    "    def __call__(self, item):\n",
    "        return distance(self.goal, item[1])\n",
    "\n",
    "min(colors.items(), key=NearestColorKey((1.1,1.1,1.1)))\n"
   ]
  },
  {
   "cell_type": "code",
   "execution_count": null,
   "metadata": {
    "collapsed": true
   },
   "outputs": [],
   "source": []
  }
 ],
 "metadata": {
  "kernelspec": {
   "display_name": "Python 2",
   "language": "python",
   "name": "python2"
  },
  "language_info": {
   "codemirror_mode": {
    "name": "ipython",
    "version": 2
   },
   "file_extension": ".py",
   "mimetype": "text/x-python",
   "name": "python",
   "nbconvert_exporter": "python",
   "pygments_lexer": "ipython2",
   "version": "2.7.11"
  }
 },
 "nbformat": 4,
 "nbformat_minor": 0
}
